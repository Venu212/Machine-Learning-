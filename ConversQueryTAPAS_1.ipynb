{
  "nbformat": 4,
  "nbformat_minor": 0,
  "metadata": {
    "colab": {
      "name": "ConversQueryTAPAS-1.ipynb",
      "provenance": [],
      "collapsed_sections": [],
      "authorship_tag": "ABX9TyOEBfwQbXlDz5CjMgP8SeKB",
      "include_colab_link": true
    },
    "kernelspec": {
      "name": "python3",
      "display_name": "Python 3"
    }
  },
  "cells": [
    {
      "cell_type": "markdown",
      "metadata": {
        "id": "view-in-github",
        "colab_type": "text"
      },
      "source": [
        "<a href=\"https://colab.research.google.com/github/Venu212/Machine-Learning-/blob/master/ConversQueryTAPAS_1.ipynb\" target=\"_parent\"><img src=\"https://colab.research.google.com/assets/colab-badge.svg\" alt=\"Open In Colab\"/></a>"
      ]
    },
    {
      "cell_type": "markdown",
      "metadata": {
        "id": "uYRKXJh_ATvU"
      },
      "source": [
        ""
      ]
    },
    {
      "cell_type": "code",
      "metadata": {
        "id": "JOG8qJgMBZ6k"
      },
      "source": [
        ""
      ],
      "execution_count": 136,
      "outputs": []
    },
    {
      "cell_type": "code",
      "metadata": {
        "id": "GIDuSk-Nx9Wf",
        "outputId": "37dd0089-b0b0-4859-e3a0-5365584c1fdc",
        "colab": {
          "base_uri": "https://localhost:8080/"
        }
      },
      "source": [
        "!git clone https://github.com/google-research/tapas.git\n"
      ],
      "execution_count": 137,
      "outputs": [
        {
          "output_type": "stream",
          "text": [
            "Cloning into 'tapas'...\n",
            "remote: Enumerating objects: 127, done.\u001b[K\n",
            "remote: Counting objects: 100% (127/127), done.\u001b[K\n",
            "remote: Compressing objects: 100% (88/88), done.\u001b[K\n",
            "remote: Total 363 (delta 64), reused 82 (delta 39), pack-reused 236\u001b[K\n",
            "Receiving objects: 100% (363/363), 334.52 KiB | 606.00 KiB/s, done.\n",
            "Resolving deltas: 100% (187/187), done.\n"
          ],
          "name": "stdout"
        }
      ]
    },
    {
      "cell_type": "code",
      "metadata": {
        "id": "ETWew_GqfftL",
        "outputId": "61c03206-b7ae-4f4c-a718-43185ac1700f",
        "colab": {
          "base_uri": "https://localhost:8080/"
        }
      },
      "source": [
        "!ls -l sample_data ./tapas/tapas/utils\n",
        "\n",
        "\n"
      ],
      "execution_count": 138,
      "outputs": [
        {
          "output_type": "stream",
          "text": [
            "ls: cannot access 'sample_data': No such file or directory\n",
            "./tapas/tapas/utils:\n",
            "total 348\n",
            "-rw-r--r-- 1 root root  2734 Oct 30 00:25 beam_runner.py\n",
            "-rw-r--r-- 1 root root  1232 Oct 30 00:25 constants.py\n",
            "-rw-r--r-- 1 root root 10495 Oct 30 00:25 experiment_utils.py\n",
            "-rw-r--r-- 1 root root  2560 Oct 30 00:25 experiment_utils_test.py\n",
            "-rw-r--r-- 1 root root   982 Oct 30 00:25 file_utils.py\n",
            "-rw-r--r-- 1 root root  3568 Oct 30 00:25 hparam_utils.py\n",
            "-rw-r--r-- 1 root root   616 Oct 30 00:25 __init__.py\n",
            "-rw-r--r-- 1 root root 10055 Oct 30 00:25 interaction_utils_parser.py\n",
            "-rw-r--r-- 1 root root  8794 Oct 30 00:25 interaction_utils_parser_test.py\n",
            "-rw-r--r-- 1 root root  4164 Oct 30 00:25 interaction_utils.py\n",
            "-rw-r--r-- 1 root root  6771 Oct 30 00:25 interaction_utils_test.py\n",
            "-rw-r--r-- 1 root root  6585 Oct 30 00:25 interpretation_utils.py\n",
            "-rw-r--r-- 1 root root  4131 Oct 30 00:25 interpretation_utils_test.py\n",
            "-rw-r--r-- 1 root root  8308 Oct 30 00:25 number_annotation_utils.py\n",
            "-rw-r--r-- 1 root root 10529 Oct 30 00:25 number_annotation_utils_test.py\n",
            "-rw-r--r-- 1 root root  8059 Oct 30 00:25 number_utils.py\n",
            "-rw-r--r-- 1 root root  6421 Oct 30 00:25 number_utils_test.py\n",
            "-rw-r--r-- 1 root root  7478 Oct 30 00:25 pretrain_utils.py\n",
            "-rw-r--r-- 1 root root  2900 Oct 30 00:25 pretrain_utils_test.py\n",
            "-rw-r--r-- 1 root root 22339 Oct 30 00:25 pruning_utils.py\n",
            "-rw-r--r-- 1 root root  7390 Oct 30 00:25 pruning_utils_test.py\n",
            "-rw-r--r-- 1 root root 12665 Oct 30 00:25 span_prediction_utils.py\n",
            "-rw-r--r-- 1 root root  4947 Oct 30 00:25 span_prediction_utils_test.py\n",
            "-rw-r--r-- 1 root root  6441 Oct 30 00:25 sqa_utils.py\n",
            "-rw-r--r-- 1 root root  6847 Oct 30 00:25 tabfact_utils.py\n",
            "-rw-r--r-- 1 root root   849 Oct 30 00:25 tasks.py\n",
            "-rw-r--r-- 1 root root  4921 Oct 30 00:25 task_utils.py\n",
            "drwxr-xr-x 2 root root  4096 Oct 30 00:25 testdata\n",
            "-rw-r--r-- 1 root root  8669 Oct 30 00:25 text_utils.py\n",
            "-rw-r--r-- 1 root root  5597 Oct 30 00:25 text_utils_test.py\n",
            "-rw-r--r-- 1 root root 41097 Oct 30 00:25 tf_example_utils.py\n",
            "-rw-r--r-- 1 root root 13680 Oct 30 00:25 tf_example_utils_test.py\n",
            "-rw-r--r-- 1 root root 10659 Oct 30 00:25 wikisql_utils.py\n",
            "-rw-r--r-- 1 root root  4377 Oct 30 00:25 wikisql_utils_test.py\n",
            "-rw-r--r-- 1 root root  7188 Oct 30 00:25 wtq_utils.py\n",
            "-rw-r--r-- 1 root root  4459 Oct 30 00:25 wtq_utils_test.py\n"
          ],
          "name": "stdout"
        }
      ]
    },
    {
      "cell_type": "code",
      "metadata": {
        "id": "ou0GkqSFzang",
        "outputId": "8dbb4141-5395-4f7c-a93e-fbc606211987",
        "colab": {
          "base_uri": "https://localhost:8080/",
          "height": 1000
        }
      },
      "source": [
        "!pip install ./tapas\n",
        " "
      ],
      "execution_count": 139,
      "outputs": [
        {
          "output_type": "stream",
          "text": [
            "Processing ./tapas\n",
            "Requirement already satisfied: apache-beam[gcp]==2.20.0 in /usr/local/lib/python3.6/dist-packages (from tapas-table-parsing==0.0.1.dev0) (2.20.0)\n",
            "Requirement already satisfied: frozendict==1.2 in /usr/local/lib/python3.6/dist-packages (from tapas-table-parsing==0.0.1.dev0) (1.2)\n",
            "Requirement already satisfied: pandas~=1.0.0 in /usr/local/lib/python3.6/dist-packages (from tapas-table-parsing==0.0.1.dev0) (1.0.5)\n",
            "Requirement already satisfied: scikit-learn~=0.22.1 in /usr/local/lib/python3.6/dist-packages (from tapas-table-parsing==0.0.1.dev0) (0.22.2.post1)\n",
            "Requirement already satisfied: tensorflow~=2.2.0 in /usr/local/lib/python3.6/dist-packages (from tapas-table-parsing==0.0.1.dev0) (2.2.1)\n",
            "Requirement already satisfied: tf-models-official~=2.2.0 in /usr/local/lib/python3.6/dist-packages (from tapas-table-parsing==0.0.1.dev0) (2.2.2)\n",
            "Requirement already satisfied: kaggle<1.5.8 in /usr/local/lib/python3.6/dist-packages (from tapas-table-parsing==0.0.1.dev0) (1.5.6)\n",
            "Requirement already satisfied: tensorflow-probability==0.10.1 in /usr/local/lib/python3.6/dist-packages (from tapas-table-parsing==0.0.1.dev0) (0.10.1)\n",
            "Requirement already satisfied: tf_slim~=1.1.0 in /usr/local/lib/python3.6/dist-packages (from tapas-table-parsing==0.0.1.dev0) (1.1.0)\n",
            "Requirement already satisfied: nltk~=3.5 in /usr/local/lib/python3.6/dist-packages (from tapas-table-parsing==0.0.1.dev0) (3.5)\n",
            "Requirement already satisfied: dataclasses~=0.7 in /usr/local/lib/python3.6/dist-packages (from tapas-table-parsing==0.0.1.dev0) (0.7)\n",
            "Requirement already satisfied: crcmod<2.0,>=1.7 in /usr/local/lib/python3.6/dist-packages (from apache-beam[gcp]==2.20.0->tapas-table-parsing==0.0.1.dev0) (1.7)\n",
            "Requirement already satisfied: typing-extensions<3.8.0,>=3.7.0 in /usr/local/lib/python3.6/dist-packages (from apache-beam[gcp]==2.20.0->tapas-table-parsing==0.0.1.dev0) (3.7.4.3)\n",
            "Requirement already satisfied: protobuf<4,>=3.5.0.post1 in /usr/local/lib/python3.6/dist-packages (from apache-beam[gcp]==2.20.0->tapas-table-parsing==0.0.1.dev0) (3.12.4)\n",
            "Requirement already satisfied: fastavro<0.22,>=0.21.4 in /usr/local/lib/python3.6/dist-packages (from apache-beam[gcp]==2.20.0->tapas-table-parsing==0.0.1.dev0) (0.21.24)\n",
            "Requirement already satisfied: httplib2<=0.12.0,>=0.8 in /usr/local/lib/python3.6/dist-packages (from apache-beam[gcp]==2.20.0->tapas-table-parsing==0.0.1.dev0) (0.12.0)\n",
            "Requirement already satisfied: pyarrow<0.17.0,>=0.15.1; python_version >= \"3.0\" or platform_system != \"Windows\" in /usr/local/lib/python3.6/dist-packages (from apache-beam[gcp]==2.20.0->tapas-table-parsing==0.0.1.dev0) (0.16.0)\n",
            "Requirement already satisfied: hdfs<3.0.0,>=2.1.0 in /usr/local/lib/python3.6/dist-packages (from apache-beam[gcp]==2.20.0->tapas-table-parsing==0.0.1.dev0) (2.5.8)\n",
            "Requirement already satisfied: avro-python3!=1.9.2,<1.10.0,>=1.8.1; python_version >= \"3.0\" in /usr/local/lib/python3.6/dist-packages (from apache-beam[gcp]==2.20.0->tapas-table-parsing==0.0.1.dev0) (1.9.2.1)\n",
            "Requirement already satisfied: oauth2client<4,>=2.0.1 in /usr/local/lib/python3.6/dist-packages (from apache-beam[gcp]==2.20.0->tapas-table-parsing==0.0.1.dev0) (3.0.0)\n",
            "Requirement already satisfied: grpcio<2,>=1.12.1 in /usr/local/lib/python3.6/dist-packages (from apache-beam[gcp]==2.20.0->tapas-table-parsing==0.0.1.dev0) (1.33.1)\n",
            "Requirement already satisfied: numpy<2,>=1.14.3 in /usr/local/lib/python3.6/dist-packages (from apache-beam[gcp]==2.20.0->tapas-table-parsing==0.0.1.dev0) (1.18.5)\n",
            "Requirement already satisfied: pytz>=2018.3 in /usr/local/lib/python3.6/dist-packages (from apache-beam[gcp]==2.20.0->tapas-table-parsing==0.0.1.dev0) (2018.9)\n",
            "Requirement already satisfied: python-dateutil<3,>=2.8.0 in /usr/local/lib/python3.6/dist-packages (from apache-beam[gcp]==2.20.0->tapas-table-parsing==0.0.1.dev0) (2.8.1)\n",
            "Requirement already satisfied: future<1.0.0,>=0.16.0 in /usr/local/lib/python3.6/dist-packages (from apache-beam[gcp]==2.20.0->tapas-table-parsing==0.0.1.dev0) (0.16.0)\n",
            "Requirement already satisfied: pydot<2,>=1.2.0 in /usr/local/lib/python3.6/dist-packages (from apache-beam[gcp]==2.20.0->tapas-table-parsing==0.0.1.dev0) (1.3.0)\n",
            "Requirement already satisfied: mock<3.0.0,>=1.0.1 in /usr/local/lib/python3.6/dist-packages (from apache-beam[gcp]==2.20.0->tapas-table-parsing==0.0.1.dev0) (2.0.0)\n",
            "Requirement already satisfied: pymongo<4.0.0,>=3.8.0 in /usr/local/lib/python3.6/dist-packages (from apache-beam[gcp]==2.20.0->tapas-table-parsing==0.0.1.dev0) (3.11.0)\n",
            "Requirement already satisfied: dill<0.3.2,>=0.3.1.1 in /usr/local/lib/python3.6/dist-packages (from apache-beam[gcp]==2.20.0->tapas-table-parsing==0.0.1.dev0) (0.3.1.1)\n",
            "Requirement already satisfied: google-cloud-dlp<=0.13.0,>=0.12.0; extra == \"gcp\" in /usr/local/lib/python3.6/dist-packages (from apache-beam[gcp]==2.20.0->tapas-table-parsing==0.0.1.dev0) (0.13.0)\n",
            "Requirement already satisfied: google-cloud-pubsub<1.1.0,>=0.39.0; extra == \"gcp\" in /usr/local/lib/python3.6/dist-packages (from apache-beam[gcp]==2.20.0->tapas-table-parsing==0.0.1.dev0) (1.0.2)\n",
            "Requirement already satisfied: google-cloud-bigtable<1.1.0,>=0.31.1; extra == \"gcp\" in /usr/local/lib/python3.6/dist-packages (from apache-beam[gcp]==2.20.0->tapas-table-parsing==0.0.1.dev0) (1.0.0)\n",
            "Requirement already satisfied: google-cloud-language<2,>=1.3.0; extra == \"gcp\" in /usr/local/lib/python3.6/dist-packages (from apache-beam[gcp]==2.20.0->tapas-table-parsing==0.0.1.dev0) (1.3.0)\n",
            "Requirement already satisfied: google-cloud-videointelligence<1.14.0,>=1.8.0; extra == \"gcp\" in /usr/local/lib/python3.6/dist-packages (from apache-beam[gcp]==2.20.0->tapas-table-parsing==0.0.1.dev0) (1.13.0)\n",
            "Requirement already satisfied: google-apitools<0.5.29,>=0.5.28; extra == \"gcp\" in /usr/local/lib/python3.6/dist-packages (from apache-beam[gcp]==2.20.0->tapas-table-parsing==0.0.1.dev0) (0.5.28)\n",
            "Requirement already satisfied: google-cloud-datastore<1.8.0,>=1.7.1; extra == \"gcp\" in /usr/local/lib/python3.6/dist-packages (from apache-beam[gcp]==2.20.0->tapas-table-parsing==0.0.1.dev0) (1.7.4)\n",
            "Requirement already satisfied: grpcio-gcp<1,>=0.2.2; extra == \"gcp\" in /usr/local/lib/python3.6/dist-packages (from apache-beam[gcp]==2.20.0->tapas-table-parsing==0.0.1.dev0) (0.2.2)\n",
            "Collecting cachetools<4,>=3.1.0; extra == \"gcp\"\n",
            "  Using cached https://files.pythonhosted.org/packages/2f/a6/30b0a0bef12283e83e58c1d6e7b5aabc7acfc4110df81a4471655d33e704/cachetools-3.1.1-py2.py3-none-any.whl\n",
            "Requirement already satisfied: google-cloud-bigquery<=1.24.0,>=1.6.0; extra == \"gcp\" in /usr/local/lib/python3.6/dist-packages (from apache-beam[gcp]==2.20.0->tapas-table-parsing==0.0.1.dev0) (1.21.0)\n",
            "Requirement already satisfied: google-cloud-spanner<1.14.0,>=1.13.0; extra == \"gcp\" in /usr/local/lib/python3.6/dist-packages (from apache-beam[gcp]==2.20.0->tapas-table-parsing==0.0.1.dev0) (1.13.0)\n",
            "Requirement already satisfied: google-cloud-core<2,>=0.28.1; extra == \"gcp\" in /usr/local/lib/python3.6/dist-packages (from apache-beam[gcp]==2.20.0->tapas-table-parsing==0.0.1.dev0) (1.0.3)\n",
            "Requirement already satisfied: google-cloud-vision<0.43.0,>=0.38.0; extra == \"gcp\" in /usr/local/lib/python3.6/dist-packages (from apache-beam[gcp]==2.20.0->tapas-table-parsing==0.0.1.dev0) (0.42.0)\n",
            "Requirement already satisfied: scipy>=0.17.0 in /usr/local/lib/python3.6/dist-packages (from scikit-learn~=0.22.1->tapas-table-parsing==0.0.1.dev0) (1.4.1)\n",
            "Requirement already satisfied: joblib>=0.11 in /usr/local/lib/python3.6/dist-packages (from scikit-learn~=0.22.1->tapas-table-parsing==0.0.1.dev0) (0.17.0)\n",
            "Requirement already satisfied: absl-py>=0.7.0 in /usr/local/lib/python3.6/dist-packages (from tensorflow~=2.2.0->tapas-table-parsing==0.0.1.dev0) (0.10.0)\n",
            "Requirement already satisfied: opt-einsum>=2.3.2 in /usr/local/lib/python3.6/dist-packages (from tensorflow~=2.2.0->tapas-table-parsing==0.0.1.dev0) (3.3.0)\n",
            "Requirement already satisfied: wheel>=0.26; python_version >= \"3\" in /usr/local/lib/python3.6/dist-packages (from tensorflow~=2.2.0->tapas-table-parsing==0.0.1.dev0) (0.35.1)\n",
            "Requirement already satisfied: google-pasta>=0.1.8 in /usr/local/lib/python3.6/dist-packages (from tensorflow~=2.2.0->tapas-table-parsing==0.0.1.dev0) (0.2.0)\n",
            "Requirement already satisfied: termcolor>=1.1.0 in /usr/local/lib/python3.6/dist-packages (from tensorflow~=2.2.0->tapas-table-parsing==0.0.1.dev0) (1.1.0)\n",
            "Requirement already satisfied: wrapt>=1.11.1 in /usr/local/lib/python3.6/dist-packages (from tensorflow~=2.2.0->tapas-table-parsing==0.0.1.dev0) (1.12.1)\n",
            "Requirement already satisfied: astunparse==1.6.3 in /usr/local/lib/python3.6/dist-packages (from tensorflow~=2.2.0->tapas-table-parsing==0.0.1.dev0) (1.6.3)\n",
            "Requirement already satisfied: h5py<2.11.0,>=2.10.0 in /usr/local/lib/python3.6/dist-packages (from tensorflow~=2.2.0->tapas-table-parsing==0.0.1.dev0) (2.10.0)\n",
            "Requirement already satisfied: keras-preprocessing>=1.1.0 in /usr/local/lib/python3.6/dist-packages (from tensorflow~=2.2.0->tapas-table-parsing==0.0.1.dev0) (1.1.2)\n",
            "Requirement already satisfied: tensorboard<2.3.0,>=2.2.0 in /usr/local/lib/python3.6/dist-packages (from tensorflow~=2.2.0->tapas-table-parsing==0.0.1.dev0) (2.2.2)\n",
            "Requirement already satisfied: six>=1.12.0 in /usr/local/lib/python3.6/dist-packages (from tensorflow~=2.2.0->tapas-table-parsing==0.0.1.dev0) (1.15.0)\n",
            "Requirement already satisfied: tensorflow-estimator<2.3.0,>=2.2.0 in /usr/local/lib/python3.6/dist-packages (from tensorflow~=2.2.0->tapas-table-parsing==0.0.1.dev0) (2.2.0)\n",
            "Requirement already satisfied: gast==0.3.3 in /usr/local/lib/python3.6/dist-packages (from tensorflow~=2.2.0->tapas-table-parsing==0.0.1.dev0) (0.3.3)\n",
            "Requirement already satisfied: py-cpuinfo>=3.3.0 in /usr/local/lib/python3.6/dist-packages (from tf-models-official~=2.2.0->tapas-table-parsing==0.0.1.dev0) (7.0.0)\n",
            "Requirement already satisfied: opencv-python-headless in /usr/local/lib/python3.6/dist-packages (from tf-models-official~=2.2.0->tapas-table-parsing==0.0.1.dev0) (4.4.0.44)\n",
            "Requirement already satisfied: typing==3.7.4.1 in /usr/local/lib/python3.6/dist-packages (from tf-models-official~=2.2.0->tapas-table-parsing==0.0.1.dev0) (3.7.4.1)\n",
            "Requirement already satisfied: psutil>=5.4.3 in /usr/local/lib/python3.6/dist-packages (from tf-models-official~=2.2.0->tapas-table-parsing==0.0.1.dev0) (5.4.8)\n",
            "Requirement already satisfied: tensorflow-model-optimization>=0.2.1 in /usr/local/lib/python3.6/dist-packages (from tf-models-official~=2.2.0->tapas-table-parsing==0.0.1.dev0) (0.5.0)\n",
            "Requirement already satisfied: Cython in /usr/local/lib/python3.6/dist-packages (from tf-models-official~=2.2.0->tapas-table-parsing==0.0.1.dev0) (0.29.21)\n",
            "Requirement already satisfied: google-api-python-client>=1.6.7 in /usr/local/lib/python3.6/dist-packages (from tf-models-official~=2.2.0->tapas-table-parsing==0.0.1.dev0) (1.7.12)\n",
            "Requirement already satisfied: tensorflow-addons in /usr/local/lib/python3.6/dist-packages (from tf-models-official~=2.2.0->tapas-table-parsing==0.0.1.dev0) (0.8.3)\n",
            "Requirement already satisfied: gin-config in /usr/local/lib/python3.6/dist-packages (from tf-models-official~=2.2.0->tapas-table-parsing==0.0.1.dev0) (0.3.0)\n",
            "Requirement already satisfied: Pillow in /usr/local/lib/python3.6/dist-packages (from tf-models-official~=2.2.0->tapas-table-parsing==0.0.1.dev0) (7.0.0)\n",
            "Requirement already satisfied: mlperf-compliance==0.0.10 in /usr/local/lib/python3.6/dist-packages (from tf-models-official~=2.2.0->tapas-table-parsing==0.0.1.dev0) (0.0.10)\n",
            "Requirement already satisfied: pyyaml in /usr/local/lib/python3.6/dist-packages (from tf-models-official~=2.2.0->tapas-table-parsing==0.0.1.dev0) (3.13)\n",
            "Requirement already satisfied: sentencepiece in /usr/local/lib/python3.6/dist-packages (from tf-models-official~=2.2.0->tapas-table-parsing==0.0.1.dev0) (0.1.94)\n",
            "Requirement already satisfied: tensorflow-hub>=0.6.0 in /usr/local/lib/python3.6/dist-packages (from tf-models-official~=2.2.0->tapas-table-parsing==0.0.1.dev0) (0.9.0)\n",
            "Requirement already satisfied: tensorflow-datasets in /usr/local/lib/python3.6/dist-packages (from tf-models-official~=2.2.0->tapas-table-parsing==0.0.1.dev0) (4.0.1)\n",
            "Requirement already satisfied: matplotlib in /usr/local/lib/python3.6/dist-packages (from tf-models-official~=2.2.0->tapas-table-parsing==0.0.1.dev0) (3.2.2)\n",
            "Requirement already satisfied: python-slugify in /usr/local/lib/python3.6/dist-packages (from kaggle<1.5.8->tapas-table-parsing==0.0.1.dev0) (4.0.1)\n",
            "Requirement already satisfied: tqdm in /usr/local/lib/python3.6/dist-packages (from kaggle<1.5.8->tapas-table-parsing==0.0.1.dev0) (4.41.1)\n",
            "Requirement already satisfied: certifi in /usr/local/lib/python3.6/dist-packages (from kaggle<1.5.8->tapas-table-parsing==0.0.1.dev0) (2020.6.20)\n",
            "Requirement already satisfied: requests in /usr/local/lib/python3.6/dist-packages (from kaggle<1.5.8->tapas-table-parsing==0.0.1.dev0) (2.23.0)\n",
            "Requirement already satisfied: urllib3<1.25,>=1.21.1 in /usr/local/lib/python3.6/dist-packages (from kaggle<1.5.8->tapas-table-parsing==0.0.1.dev0) (1.24.3)\n",
            "Requirement already satisfied: cloudpickle==1.3 in /usr/local/lib/python3.6/dist-packages (from tensorflow-probability==0.10.1->tapas-table-parsing==0.0.1.dev0) (1.3.0)\n",
            "Requirement already satisfied: decorator in /usr/local/lib/python3.6/dist-packages (from tensorflow-probability==0.10.1->tapas-table-parsing==0.0.1.dev0) (4.4.2)\n",
            "Requirement already satisfied: regex in /usr/local/lib/python3.6/dist-packages (from nltk~=3.5->tapas-table-parsing==0.0.1.dev0) (2019.12.20)\n",
            "Requirement already satisfied: click in /usr/local/lib/python3.6/dist-packages (from nltk~=3.5->tapas-table-parsing==0.0.1.dev0) (7.1.2)\n",
            "Requirement already satisfied: setuptools in /usr/local/lib/python3.6/dist-packages (from protobuf<4,>=3.5.0.post1->apache-beam[gcp]==2.20.0->tapas-table-parsing==0.0.1.dev0) (50.3.2)\n",
            "Requirement already satisfied: docopt in /usr/local/lib/python3.6/dist-packages (from hdfs<3.0.0,>=2.1.0->apache-beam[gcp]==2.20.0->tapas-table-parsing==0.0.1.dev0) (0.6.2)\n",
            "Requirement already satisfied: pyasn1>=0.1.7 in /usr/local/lib/python3.6/dist-packages (from oauth2client<4,>=2.0.1->apache-beam[gcp]==2.20.0->tapas-table-parsing==0.0.1.dev0) (0.4.8)\n",
            "Requirement already satisfied: rsa>=3.1.4 in /usr/local/lib/python3.6/dist-packages (from oauth2client<4,>=2.0.1->apache-beam[gcp]==2.20.0->tapas-table-parsing==0.0.1.dev0) (4.6)\n",
            "Requirement already satisfied: pyasn1-modules>=0.0.5 in /usr/local/lib/python3.6/dist-packages (from oauth2client<4,>=2.0.1->apache-beam[gcp]==2.20.0->tapas-table-parsing==0.0.1.dev0) (0.2.8)\n",
            "Requirement already satisfied: pyparsing>=2.1.4 in /usr/local/lib/python3.6/dist-packages (from pydot<2,>=1.2.0->apache-beam[gcp]==2.20.0->tapas-table-parsing==0.0.1.dev0) (2.4.7)\n",
            "Requirement already satisfied: pbr>=0.11 in /usr/local/lib/python3.6/dist-packages (from mock<3.0.0,>=1.0.1->apache-beam[gcp]==2.20.0->tapas-table-parsing==0.0.1.dev0) (5.5.1)\n",
            "Requirement already satisfied: google-api-core[grpc]<2.0.0dev,>=1.14.0 in /usr/local/lib/python3.6/dist-packages (from google-cloud-dlp<=0.13.0,>=0.12.0; extra == \"gcp\"->apache-beam[gcp]==2.20.0->tapas-table-parsing==0.0.1.dev0) (1.16.0)\n",
            "Requirement already satisfied: grpc-google-iam-v1<0.13dev,>=0.12.3 in /usr/local/lib/python3.6/dist-packages (from google-cloud-pubsub<1.1.0,>=0.39.0; extra == \"gcp\"->apache-beam[gcp]==2.20.0->tapas-table-parsing==0.0.1.dev0) (0.12.3)\n",
            "Requirement already satisfied: fasteners>=0.14 in /usr/local/lib/python3.6/dist-packages (from google-apitools<0.5.29,>=0.5.28; extra == \"gcp\"->apache-beam[gcp]==2.20.0->tapas-table-parsing==0.0.1.dev0) (0.15)\n",
            "Requirement already satisfied: google-resumable-media!=0.4.0,<0.5.0dev,>=0.3.1 in /usr/local/lib/python3.6/dist-packages (from google-cloud-bigquery<=1.24.0,>=1.6.0; extra == \"gcp\"->apache-beam[gcp]==2.20.0->tapas-table-parsing==0.0.1.dev0) (0.4.1)\n",
            "Requirement already satisfied: google-auth-oauthlib<0.5,>=0.4.1 in /usr/local/lib/python3.6/dist-packages (from tensorboard<2.3.0,>=2.2.0->tensorflow~=2.2.0->tapas-table-parsing==0.0.1.dev0) (0.4.1)\n",
            "Requirement already satisfied: markdown>=2.6.8 in /usr/local/lib/python3.6/dist-packages (from tensorboard<2.3.0,>=2.2.0->tensorflow~=2.2.0->tapas-table-parsing==0.0.1.dev0) (3.3.2)\n",
            "Requirement already satisfied: werkzeug>=0.11.15 in /usr/local/lib/python3.6/dist-packages (from tensorboard<2.3.0,>=2.2.0->tensorflow~=2.2.0->tapas-table-parsing==0.0.1.dev0) (1.0.1)\n",
            "Requirement already satisfied: tensorboard-plugin-wit>=1.6.0 in /usr/local/lib/python3.6/dist-packages (from tensorboard<2.3.0,>=2.2.0->tensorflow~=2.2.0->tapas-table-parsing==0.0.1.dev0) (1.7.0)\n",
            "Requirement already satisfied: google-auth<2,>=1.6.3 in /usr/local/lib/python3.6/dist-packages (from tensorboard<2.3.0,>=2.2.0->tensorflow~=2.2.0->tapas-table-parsing==0.0.1.dev0) (1.17.2)\n",
            "Requirement already satisfied: dm-tree~=0.1.1 in /usr/local/lib/python3.6/dist-packages (from tensorflow-model-optimization>=0.2.1->tf-models-official~=2.2.0->tapas-table-parsing==0.0.1.dev0) (0.1.5)\n",
            "Requirement already satisfied: uritemplate<4dev,>=3.0.0 in /usr/local/lib/python3.6/dist-packages (from google-api-python-client>=1.6.7->tf-models-official~=2.2.0->tapas-table-parsing==0.0.1.dev0) (3.0.1)\n",
            "Requirement already satisfied: google-auth-httplib2>=0.0.3 in /usr/local/lib/python3.6/dist-packages (from google-api-python-client>=1.6.7->tf-models-official~=2.2.0->tapas-table-parsing==0.0.1.dev0) (0.0.4)\n",
            "Requirement already satisfied: typeguard in /usr/local/lib/python3.6/dist-packages (from tensorflow-addons->tf-models-official~=2.2.0->tapas-table-parsing==0.0.1.dev0) (2.7.1)\n",
            "Requirement already satisfied: attrs>=18.1.0 in /usr/local/lib/python3.6/dist-packages (from tensorflow-datasets->tf-models-official~=2.2.0->tapas-table-parsing==0.0.1.dev0) (20.2.0)\n",
            "Requirement already satisfied: importlib-resources; python_version < \"3.9\" in /usr/local/lib/python3.6/dist-packages (from tensorflow-datasets->tf-models-official~=2.2.0->tapas-table-parsing==0.0.1.dev0) (3.1.0)\n",
            "Requirement already satisfied: tensorflow-metadata in /usr/local/lib/python3.6/dist-packages (from tensorflow-datasets->tf-models-official~=2.2.0->tapas-table-parsing==0.0.1.dev0) (0.24.0)\n",
            "Requirement already satisfied: promise in /usr/local/lib/python3.6/dist-packages (from tensorflow-datasets->tf-models-official~=2.2.0->tapas-table-parsing==0.0.1.dev0) (2.3)\n",
            "Requirement already satisfied: cycler>=0.10 in /usr/local/lib/python3.6/dist-packages (from matplotlib->tf-models-official~=2.2.0->tapas-table-parsing==0.0.1.dev0) (0.10.0)\n",
            "Requirement already satisfied: kiwisolver>=1.0.1 in /usr/local/lib/python3.6/dist-packages (from matplotlib->tf-models-official~=2.2.0->tapas-table-parsing==0.0.1.dev0) (1.2.0)\n",
            "Requirement already satisfied: text-unidecode>=1.3 in /usr/local/lib/python3.6/dist-packages (from python-slugify->kaggle<1.5.8->tapas-table-parsing==0.0.1.dev0) (1.3)\n",
            "Requirement already satisfied: chardet<4,>=3.0.2 in /usr/local/lib/python3.6/dist-packages (from requests->kaggle<1.5.8->tapas-table-parsing==0.0.1.dev0) (3.0.4)\n",
            "Requirement already satisfied: idna<3,>=2.5 in /usr/local/lib/python3.6/dist-packages (from requests->kaggle<1.5.8->tapas-table-parsing==0.0.1.dev0) (2.10)\n",
            "Requirement already satisfied: googleapis-common-protos<2.0dev,>=1.6.0 in /usr/local/lib/python3.6/dist-packages (from google-api-core[grpc]<2.0.0dev,>=1.14.0->google-cloud-dlp<=0.13.0,>=0.12.0; extra == \"gcp\"->apache-beam[gcp]==2.20.0->tapas-table-parsing==0.0.1.dev0) (1.52.0)\n",
            "Requirement already satisfied: monotonic>=0.1 in /usr/local/lib/python3.6/dist-packages (from fasteners>=0.14->google-apitools<0.5.29,>=0.5.28; extra == \"gcp\"->apache-beam[gcp]==2.20.0->tapas-table-parsing==0.0.1.dev0) (1.5)\n",
            "Requirement already satisfied: requests-oauthlib>=0.7.0 in /usr/local/lib/python3.6/dist-packages (from google-auth-oauthlib<0.5,>=0.4.1->tensorboard<2.3.0,>=2.2.0->tensorflow~=2.2.0->tapas-table-parsing==0.0.1.dev0) (1.3.0)\n",
            "Requirement already satisfied: importlib-metadata; python_version < \"3.8\" in /usr/local/lib/python3.6/dist-packages (from markdown>=2.6.8->tensorboard<2.3.0,>=2.2.0->tensorflow~=2.2.0->tapas-table-parsing==0.0.1.dev0) (2.0.0)\n",
            "Requirement already satisfied: zipp>=0.4; python_version < \"3.8\" in /usr/local/lib/python3.6/dist-packages (from importlib-resources; python_version < \"3.9\"->tensorflow-datasets->tf-models-official~=2.2.0->tapas-table-parsing==0.0.1.dev0) (3.3.1)\n",
            "Requirement already satisfied: oauthlib>=3.0.0 in /usr/local/lib/python3.6/dist-packages (from requests-oauthlib>=0.7.0->google-auth-oauthlib<0.5,>=0.4.1->tensorboard<2.3.0,>=2.2.0->tensorflow~=2.2.0->tapas-table-parsing==0.0.1.dev0) (3.1.0)\n",
            "Building wheels for collected packages: tapas-table-parsing\n",
            "  Building wheel for tapas-table-parsing (setup.py) ... \u001b[?25l\u001b[?25hdone\n",
            "  Created wheel for tapas-table-parsing: filename=tapas_table_parsing-0.0.1.dev0-cp36-none-any.whl size=195631 sha256=5d92c6e0095d129478f1807ed1ad60cf0935d0cb94b22db1ffaf22fddbc4010f\n",
            "  Stored in directory: /tmp/pip-ephem-wheel-cache-olhlzjms/wheels/dd/20/6e/7557deb5d1fc791302cf438ad0522db6e8754a987222cbd66a\n",
            "Successfully built tapas-table-parsing\n",
            "\u001b[31mERROR: streamlit 0.70.0 has requirement cachetools>=4.0, but you'll have cachetools 3.1.1 which is incompatible.\u001b[0m\n",
            "\u001b[31mERROR: google-api-python-client 1.7.12 has requirement httplib2<1dev,>=0.17.0, but you'll have httplib2 0.12.0 which is incompatible.\u001b[0m\n",
            "Installing collected packages: tapas-table-parsing, cachetools\n",
            "  Found existing installation: tapas-table-parsing 0.0.1.dev0\n",
            "    Uninstalling tapas-table-parsing-0.0.1.dev0:\n",
            "      Successfully uninstalled tapas-table-parsing-0.0.1.dev0\n",
            "  Found existing installation: cachetools 4.1.1\n",
            "    Uninstalling cachetools-4.1.1:\n",
            "      Successfully uninstalled cachetools-4.1.1\n",
            "Successfully installed cachetools-3.1.1 tapas-table-parsing-0.0.1.dev0\n"
          ],
          "name": "stdout"
        },
        {
          "output_type": "display_data",
          "data": {
            "application/vnd.colab-display-data+json": {
              "pip_warning": {
                "packages": [
                  "cachetools",
                  "tapas"
                ]
              }
            }
          },
          "metadata": {
            "tags": []
          }
        }
      ]
    },
    {
      "cell_type": "markdown",
      "metadata": {
        "id": "uUZihhlm3JwE"
      },
      "source": [
        "## Fetch Pretrained Models form Google"
      ]
    },
    {
      "cell_type": "code",
      "metadata": {
        "id": "0sB4zpoK2vGn",
        "outputId": "6179a70b-35dd-4928-a8fd-c120c3410438",
        "colab": {
          "base_uri": "https://localhost:8080/"
        }
      },
      "source": [
        "! gsutil cp gs://tapas_models/2020_04_21/tapas_sqa_base.zip . && unzip tapas_sqa_base.zip\n"
      ],
      "execution_count": 140,
      "outputs": [
        {
          "output_type": "stream",
          "text": [
            "Copying gs://tapas_models/2020_04_21/tapas_sqa_base.zip...\n",
            "| [1 files][  1.0 GiB/  1.0 GiB]    6.1 MiB/s                                   \n",
            "Operation completed over 1 objects/1.0 GiB.                                      \n",
            "Archive:  tapas_sqa_base.zip\n",
            "   creating: tapas_sqa_base/\n",
            "  inflating: tapas_sqa_base/model.ckpt.data-00000-of-00001  \n",
            "  inflating: tapas_sqa_base/model.ckpt.index  \n",
            "  inflating: tapas_sqa_base/README.txt  \n",
            "  inflating: tapas_sqa_base/vocab.txt  \n",
            "  inflating: tapas_sqa_base/bert_config.json  \n",
            "  inflating: tapas_sqa_base/model.ckpt.meta  \n"
          ],
          "name": "stdout"
        }
      ]
    },
    {
      "cell_type": "markdown",
      "metadata": {
        "id": "16SUPpyU3XEn"
      },
      "source": [
        "## Import"
      ]
    },
    {
      "cell_type": "code",
      "metadata": {
        "id": "PEGndTGT3R-d"
      },
      "source": [
        "import tensorflow.compat.v1 as tf\n",
        "import os\n",
        "import shutil\n",
        "import csv\n",
        "import pandas as pd\n",
        "import IPython\n",
        "\n",
        "tf.get_logger().setLevel('ERROR')"
      ],
      "execution_count": 141,
      "outputs": []
    },
    {
      "cell_type": "markdown",
      "metadata": {
        "id": "yCZpbU6I5Ovm"
      },
      "source": [
        "### Utilities"
      ]
    },
    {
      "cell_type": "code",
      "metadata": {
        "id": "dgXB2xyy5q-I"
      },
      "source": [
        "\n",
        "from tapas.utils import tf_example_utils\n",
        "from tapas.protos import interaction_pb2\n",
        "from tapas.utils import number_annotation_utils\n",
        "from tapas.scripts import prediction_utils\n"
      ],
      "execution_count": 142,
      "outputs": []
    },
    {
      "cell_type": "markdown",
      "metadata": {
        "id": "xkwwmqo9Chlf"
      },
      "source": [
        "##Load checkpoint for prediction\n",
        "The code is to create Interaction protobuf object.  interaction_pb2. which is the datastructure we use to store examples, and then call the prediction script."
      ]
    },
    {
      "cell_type": "code",
      "metadata": {
        "id": "mB1Whe2YCQXU"
      },
      "source": [
        "os.makedirs('results/sqa/tf_examples', exist_ok=True)\n",
        "os.makedirs('results/sqa/model', exist_ok=True)\n",
        "with open('results/sqa/model/checkpoint', 'w') as f:\n",
        "  f.write('model_checkpoint_path: \"model.ckpt-0\"')\n",
        "for suffix in ['.data-00000-of-00001', '.index', '.meta']:\n",
        "  shutil.copyfile(f'tapas_sqa_base/model.ckpt{suffix}', f'results/sqa/model/model.ckpt-0{suffix}')"
      ],
      "execution_count": 143,
      "outputs": []
    },
    {
      "cell_type": "markdown",
      "metadata": {
        "id": "drBv5-dW8wQK"
      },
      "source": [
        "Install HANA Driver"
      ]
    },
    {
      "cell_type": "code",
      "metadata": {
        "id": "rEYGOm4uHD-c",
        "outputId": "801e1edb-2884-4773-9af5-3668379f4641",
        "colab": {
          "base_uri": "https://localhost:8080/",
          "height": 35
        }
      },
      "source": [
        "'''\n",
        "!pip install git+https://github.com/SAP/pyhdb.git\n",
        "#!pip install ./pyhdb\n",
        "'''"
      ],
      "execution_count": 144,
      "outputs": [
        {
          "output_type": "execute_result",
          "data": {
            "application/vnd.google.colaboratory.intrinsic+json": {
              "type": "string"
            },
            "text/plain": [
              "'\\n!pip install git+https://github.com/SAP/pyhdb.git\\n#!pip install ./pyhdb\\n'"
            ]
          },
          "metadata": {
            "tags": []
          },
          "execution_count": 144
        }
      ]
    },
    {
      "cell_type": "code",
      "metadata": {
        "id": "4AtF3C5W818R",
        "outputId": "8aabcaf7-abf5-4e89-aa99-a219ddbbba9f",
        "colab": {
          "base_uri": "https://localhost:8080/",
          "height": 35
        }
      },
      "source": [
        "'''\n",
        "import pyhdb\n",
        "import inspect\n",
        "'''"
      ],
      "execution_count": 145,
      "outputs": [
        {
          "output_type": "execute_result",
          "data": {
            "application/vnd.google.colaboratory.intrinsic+json": {
              "type": "string"
            },
            "text/plain": [
              "'\\nimport pyhdb\\nimport inspect\\n'"
            ]
          },
          "metadata": {
            "tags": []
          },
          "execution_count": 145
        }
      ]
    },
    {
      "cell_type": "code",
      "metadata": {
        "id": "bfvK-TpY_i_R"
      },
      "source": [
        "#inspect.signature(pyhdb.connect)"
      ],
      "execution_count": 146,
      "outputs": []
    },
    {
      "cell_type": "code",
      "metadata": {
        "id": "f6ZB4L33AWRE",
        "outputId": "135d9a91-69c2-462f-eb29-96521287cb0e",
        "colab": {
          "base_uri": "https://localhost:8080/",
          "height": 53
        }
      },
      "source": [
        "#Create a connection object\n",
        "\n",
        "'''\n",
        "connection = pyhdb.connect(\n",
        "    host=\"bihanasbx.corp.service-now.com\",\n",
        "    # bihanadev.corp.service-now.com:30115\n",
        "    port=30115,\n",
        "    user=\"VMALIREDDY\",\n",
        "    password=\"F@kn21Od3#mqw\"\n",
        "    )\n",
        "'''\n",
        "\n"
      ],
      "execution_count": 147,
      "outputs": [
        {
          "output_type": "execute_result",
          "data": {
            "application/vnd.google.colaboratory.intrinsic+json": {
              "type": "string"
            },
            "text/plain": [
              "'\\nconnection = pyhdb.connect(\\n    host=\"bihanasbx.corp.service-now.com\",\\n    # bihanadev.corp.service-now.com:30115\\n    port=30115,\\n    user=\"VMALIREDDY\",\\n    password=\"F@kn21Od3#mqw\"\\n    )\\n'"
            ]
          },
          "metadata": {
            "tags": []
          },
          "execution_count": 147
        }
      ]
    },
    {
      "cell_type": "code",
      "metadata": {
        "id": "4VP0h8xeFQ3z",
        "outputId": "cec86e1f-3bef-421f-e702-1fab5576cd66",
        "colab": {
          "base_uri": "https://localhost:8080/",
          "height": 53
        }
      },
      "source": [
        "'''\n",
        "cursor = connection.cursor()\n",
        "cursor.execute(\"select * from SAP_ECC_NOW.PURCHASE_TO_PAY.DataCenter.EnterpriseModel/DATACENTER_SPEND\")\n",
        "dc_data = cursor.fetchall()\n",
        "'''"
      ],
      "execution_count": 148,
      "outputs": [
        {
          "output_type": "execute_result",
          "data": {
            "application/vnd.google.colaboratory.intrinsic+json": {
              "type": "string"
            },
            "text/plain": [
              "'\\ncursor = connection.cursor()\\ncursor.execute(\"select * from SAP_ECC_NOW.PURCHASE_TO_PAY.DataCenter.EnterpriseModel/DATACENTER_SPEND\")\\ndc_data = cursor.fetchall()\\n'"
            ]
          },
          "metadata": {
            "tags": []
          },
          "execution_count": 148
        }
      ]
    },
    {
      "cell_type": "code",
      "metadata": {
        "id": "oMlUZg9DIDD2"
      },
      "source": [
        "# !pip install pyodbc"
      ],
      "execution_count": 149,
      "outputs": []
    },
    {
      "cell_type": "code",
      "metadata": {
        "id": "79N2bJ4MH0PT"
      },
      "source": [
        "# Import libraries\n",
        "#import pyodbc"
      ],
      "execution_count": 150,
      "outputs": []
    },
    {
      "cell_type": "code",
      "metadata": {
        "id": "dUUvdiHxCNIS"
      },
      "source": [
        "# HANA Connection Object\n",
        "#conn = pyodbc.connect('DSN=HanaODBC')"
      ],
      "execution_count": 151,
      "outputs": []
    },
    {
      "cell_type": "markdown",
      "metadata": {
        "id": "AVhl4JlVNJEl"
      },
      "source": [
        "### Read pickle file"
      ]
    },
    {
      "cell_type": "code",
      "metadata": {
        "id": "tBPe-G14NjuH"
      },
      "source": [
        "#!!dir downloads"
      ],
      "execution_count": 152,
      "outputs": []
    },
    {
      "cell_type": "code",
      "metadata": {
        "id": "zdANjombM1X-"
      },
      "source": [
        "#dc_df=pd.read_pickle(\"C:\\\\Users\\\\Venugopal.Malireddy\\\\Downloads\\\\cloud_spend.pkl\")#\n",
        "#C:\\Users\\Venugopal.Malireddy\\Downloads"
      ],
      "execution_count": 153,
      "outputs": []
    },
    {
      "cell_type": "code",
      "metadata": {
        "id": "EPXkNBGsPwDq"
      },
      "source": [
        "from google.colab import files\n"
      ],
      "execution_count": 154,
      "outputs": []
    },
    {
      "cell_type": "code",
      "metadata": {
        "id": "Zb7Z3LyMBmA5",
        "outputId": "f75ff02e-6f1d-4db3-d6ff-55d974d19902",
        "colab": {
          "resources": {
            "http://localhost:8080/nbextensions/google.colab/files.js": {
              "data": "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",
              "ok": true,
              "headers": [
                [
                  "content-type",
                  "application/javascript"
                ]
              ],
              "status": 200,
              "status_text": ""
            }
          },
          "base_uri": "https://localhost:8080/",
          "height": 73
        }
      },
      "source": [
        "uploaded = files.upload()"
      ],
      "execution_count": 155,
      "outputs": [
        {
          "output_type": "display_data",
          "data": {
            "text/html": [
              "\n",
              "     <input type=\"file\" id=\"files-1ef5af86-a2dd-426a-a69f-b451f091c6a0\" name=\"files[]\" multiple disabled\n",
              "        style=\"border:none\" />\n",
              "     <output id=\"result-1ef5af86-a2dd-426a-a69f-b451f091c6a0\">\n",
              "      Upload widget is only available when the cell has been executed in the\n",
              "      current browser session. Please rerun this cell to enable.\n",
              "      </output>\n",
              "      <script src=\"/nbextensions/google.colab/files.js\"></script> "
            ],
            "text/plain": [
              "<IPython.core.display.HTML object>"
            ]
          },
          "metadata": {
            "tags": []
          }
        },
        {
          "output_type": "stream",
          "text": [
            "Saving cloud_spend-1.pkl to cloud_spend-1.pkl\n"
          ],
          "name": "stdout"
        }
      ]
    },
    {
      "cell_type": "code",
      "metadata": {
        "id": "KwzQko8fTvqe"
      },
      "source": [
        "import io\n",
        "df = pd.read_pickle(io.BytesIO(uploaded['cloud_spend-1.pkl']))\n",
        "# Dataset is now stored in a Pandas Dataframe"
      ],
      "execution_count": 156,
      "outputs": []
    },
    {
      "cell_type": "code",
      "metadata": {
        "id": "NNKXRPpFNPnc",
        "outputId": "d3fe7a0e-a60a-480d-ec3f-3d5f65968cb3",
        "colab": {
          "base_uri": "https://localhost:8080/"
        }
      },
      "source": [
        "df.shape \n"
      ],
      "execution_count": 157,
      "outputs": [
        {
          "output_type": "execute_result",
          "data": {
            "text/plain": [
              "(70390, 125)"
            ]
          },
          "metadata": {
            "tags": []
          },
          "execution_count": 157
        }
      ]
    },
    {
      "cell_type": "code",
      "metadata": {
        "id": "lMeKo08Myzie",
        "outputId": "9967b97f-4406-4a99-f6bc-96ec7635294d",
        "colab": {
          "base_uri": "https://localhost:8080/"
        }
      },
      "source": [
        "list(df.columns.values)"
      ],
      "execution_count": 158,
      "outputs": [
        {
          "output_type": "execute_result",
          "data": {
            "text/plain": [
              "['isHardware',\n",
              " 'IsCabinet',\n",
              " 'ParentVendorOld',\n",
              " 'PR_Number',\n",
              " 'PrDescription',\n",
              " 'PRStateDescription',\n",
              " 'PrStage',\n",
              " 'GeoRegion',\n",
              " 'Region',\n",
              " 'VendorName',\n",
              " 'PrType',\n",
              " 'DepartmentName',\n",
              " 'FunctionalArea',\n",
              " 'ReportingYearPrCloseDate',\n",
              " 'ReportingQuarterPrCloseDate',\n",
              " 'ReportingMonthPrCloseDate',\n",
              " 'YearPrCloseDate',\n",
              " 'QuarterByYearPrCloseDate',\n",
              " 'MonthByYearPrCloseDate',\n",
              " 'MaterialGroup',\n",
              " 'ModelCategory',\n",
              " 'ModelType',\n",
              " 'ModelShortDescription',\n",
              " 'ModelNumber',\n",
              " 'ModelName',\n",
              " 'ManufacturerName',\n",
              " 'PR_RevisionAmountInUSD_Char',\n",
              " 'PrLineNumber',\n",
              " 'PrLineItemShortDesc',\n",
              " 'PrLineItemDesc',\n",
              " 'PrLine_ATF_Flag_Val',\n",
              " 'GLAccountInlineItem',\n",
              " 'ReceivingPlantSysID',\n",
              " 'PrCreateDate',\n",
              " 'PrCloseDate',\n",
              " 'PurchasingGroup',\n",
              " 'CompanyCodeName',\n",
              " 'CostCenter',\n",
              " 'MonthPrCreateDate',\n",
              " 'MonthByYearPrCreateDate',\n",
              " 'QuarterByYearPrCreateDate',\n",
              " 'YearPrCreateDate',\n",
              " 'MonthPrCloseDate',\n",
              " 'EXPENSE_ACCOUNT',\n",
              " 'GlobalUltimateBusName',\n",
              " 'Vendor',\n",
              " 'GL_CodeDescription',\n",
              " 'CompanyCodeRegion',\n",
              " 'ReportingMonthPrCreateDate',\n",
              " 'ReportingQuarterPrCreateDate',\n",
              " 'ReportingYearPrCreateDate',\n",
              " 'Country',\n",
              " 'City',\n",
              " 'PRStateNumber',\n",
              " 'AssetType',\n",
              " 'SysCreatedBy',\n",
              " 'ParentAsset',\n",
              " 'AssetNumber',\n",
              " 'ChildAsset',\n",
              " 'RSState',\n",
              " 'DataCenter',\n",
              " 'ProjectName',\n",
              " 'PercentInvoiced',\n",
              " 'PercentDelivered',\n",
              " 'PurchasingOrgDesc',\n",
              " 'SAP_PO_CreateDate',\n",
              " 'POTypeDesc',\n",
              " 'PR_Requester',\n",
              " 'PrApprovedDate',\n",
              " 'PurchaseContract',\n",
              " 'Requisitioner',\n",
              " 'QuoteNumber',\n",
              " 'SAP_PO_Number',\n",
              " 'Tags',\n",
              " 'PrSysID',\n",
              " 'PR_ATF_Flag',\n",
              " 'LineIDInPrLineItems',\n",
              " 'PRLineId',\n",
              " 'IsRack',\n",
              " 'ShipmentCancelledDate',\n",
              " 'ShipmentRecocciled',\n",
              " 'ShipmentStatus',\n",
              " 'ShipmentStatusDesc',\n",
              " 'ShipmentItemDesc',\n",
              " 'ShipmentTrackingNumber',\n",
              " 'receivedDate',\n",
              " 'ShipmentArrivedDate',\n",
              " 'ShipmentArrivalDate',\n",
              " 'ReceivingSlip',\n",
              " 'RSReceivingDate',\n",
              " 'Createddate',\n",
              " 'RecevingSlipStatus',\n",
              " 'PrLineDeliveryDate',\n",
              " 'ReqDeliveryDate',\n",
              " 'ShipDate',\n",
              " 'VendorShipmentId',\n",
              " 'RSSysId',\n",
              " 'Urgency',\n",
              " 'PO_State',\n",
              " 'Prioritydesc',\n",
              " 'DeliveryPlan',\n",
              " 'StateDesc',\n",
              " 'PO_Subcategory',\n",
              " 'PO_Approval',\n",
              " 'PO_Type',\n",
              " 'PO_CreatedDate',\n",
              " 'RS_ReceivingDate',\n",
              " 'POLeadTime',\n",
              " 'ExpType',\n",
              " 'ParentVendor',\n",
              " 'RSReceivingDate1',\n",
              " 'Late',\n",
              " 'PR_AmountInUSD',\n",
              " 'PR_AmountInUSD_LineItems',\n",
              " 'NetPriceInPrLineItems',\n",
              " 'ToBeDeliveredAmount',\n",
              " 'ToBeInvoicedAmount',\n",
              " 'DeliveredAmount',\n",
              " 'TotalAmountUsd',\n",
              " 'ReceivedQuantity',\n",
              " 'POInvoicedPercentage',\n",
              " 'PODeliveredPercentage',\n",
              " 'PO_Value',\n",
              " 'POQuantity',\n",
              " 'OPEX1']"
            ]
          },
          "metadata": {
            "tags": []
          },
          "execution_count": 158
        }
      ]
    },
    {
      "cell_type": "code",
      "metadata": {
        "id": "R1CvJAz9aQYW"
      },
      "source": [
        "pd.set_option('display.float_format', lambda x: '%.3f' % x)"
      ],
      "execution_count": 159,
      "outputs": []
    },
    {
      "cell_type": "code",
      "metadata": {
        "id": "S2h1NvtZZLZ_",
        "outputId": "757d5b00-2280-40bd-da09-e6d58a1e2604",
        "colab": {
          "base_uri": "https://localhost:8080/",
          "height": 314
        }
      },
      "source": [
        "df.describe()"
      ],
      "execution_count": 160,
      "outputs": [
        {
          "output_type": "execute_result",
          "data": {
            "text/html": [
              "<div>\n",
              "<style scoped>\n",
              "    .dataframe tbody tr th:only-of-type {\n",
              "        vertical-align: middle;\n",
              "    }\n",
              "\n",
              "    .dataframe tbody tr th {\n",
              "        vertical-align: top;\n",
              "    }\n",
              "\n",
              "    .dataframe thead th {\n",
              "        text-align: right;\n",
              "    }\n",
              "</style>\n",
              "<table border=\"1\" class=\"dataframe\">\n",
              "  <thead>\n",
              "    <tr style=\"text-align: right;\">\n",
              "      <th style=\"min-width: {};\"></th>\n",
              "      <th style=\"min-width: {};\">ParentAsset</th>\n",
              "      <th style=\"min-width: {};\">ChildAsset</th>\n",
              "      <th style=\"min-width: {};\">PercentInvoiced</th>\n",
              "      <th style=\"min-width: {};\">PercentDelivered</th>\n",
              "      <th style=\"min-width: {};\">LineIDInPrLineItems</th>\n",
              "      <th style=\"min-width: {};\">ShipmentRecocciled</th>\n",
              "      <th style=\"min-width: {};\">PR_AmountInUSD</th>\n",
              "      <th style=\"min-width: {};\">PR_AmountInUSD_LineItems</th>\n",
              "      <th style=\"min-width: {};\">NetPriceInPrLineItems</th>\n",
              "      <th style=\"min-width: {};\">ToBeDeliveredAmount</th>\n",
              "      <th style=\"min-width: {};\">ToBeInvoicedAmount</th>\n",
              "      <th style=\"min-width: {};\">DeliveredAmount</th>\n",
              "      <th style=\"min-width: {};\">TotalAmountUsd</th>\n",
              "      <th style=\"min-width: {};\">ReceivedQuantity</th>\n",
              "      <th style=\"min-width: {};\">POInvoicedPercentage</th>\n",
              "      <th style=\"min-width: {};\">PODeliveredPercentage</th>\n",
              "      <th style=\"min-width: {};\">PO_Value</th>\n",
              "      <th style=\"min-width: {};\">POQuantity</th>\n",
              "      <th style=\"min-width: {};\">OPEX1</th>\n",
              "    </tr>\n",
              "  </thead>\n",
              "  <tbody>\n",
              "    <tr>\n",
              "      <th>count</th>\n",
              "      <td>70390.000</td>\n",
              "      <td>70390.000</td>\n",
              "      <td>70289.000</td>\n",
              "      <td>70289.000</td>\n",
              "      <td>69655.000</td>\n",
              "      <td>30735.000</td>\n",
              "      <td>70390.000</td>\n",
              "      <td>70390.000</td>\n",
              "      <td>70390.000</td>\n",
              "      <td>47012.000</td>\n",
              "      <td>47012.000</td>\n",
              "      <td>1967.000</td>\n",
              "      <td>44579.000</td>\n",
              "      <td>40631.000</td>\n",
              "      <td>63433.000</td>\n",
              "      <td>58242.000</td>\n",
              "      <td>63433.000</td>\n",
              "      <td>63433.000</td>\n",
              "      <td>26907.000</td>\n",
              "    </tr>\n",
              "    <tr>\n",
              "      <th>mean</th>\n",
              "      <td>0.093</td>\n",
              "      <td>0.411</td>\n",
              "      <td>0.734</td>\n",
              "      <td>0.734</td>\n",
              "      <td>192.543</td>\n",
              "      <td>0.000</td>\n",
              "      <td>3228108.027</td>\n",
              "      <td>22391.854</td>\n",
              "      <td>8059.751</td>\n",
              "      <td>1370.386</td>\n",
              "      <td>5770.358</td>\n",
              "      <td>29042.895</td>\n",
              "      <td>1808280.762</td>\n",
              "      <td>18.287</td>\n",
              "      <td>53.846</td>\n",
              "      <td>91.370</td>\n",
              "      <td>1017575.369</td>\n",
              "      <td>448313.754</td>\n",
              "      <td>19663.712</td>\n",
              "    </tr>\n",
              "    <tr>\n",
              "      <th>std</th>\n",
              "      <td>0.291</td>\n",
              "      <td>0.492</td>\n",
              "      <td>8.333</td>\n",
              "      <td>8.368</td>\n",
              "      <td>223.719</td>\n",
              "      <td>0.000</td>\n",
              "      <td>5328759.541</td>\n",
              "      <td>130928.347</td>\n",
              "      <td>84102.266</td>\n",
              "      <td>71935.773</td>\n",
              "      <td>107500.765</td>\n",
              "      <td>68908.175</td>\n",
              "      <td>1641348.256</td>\n",
              "      <td>13.293</td>\n",
              "      <td>49.318</td>\n",
              "      <td>27.830</td>\n",
              "      <td>37127914.905</td>\n",
              "      <td>37118039.646</td>\n",
              "      <td>164854.537</td>\n",
              "    </tr>\n",
              "    <tr>\n",
              "      <th>min</th>\n",
              "      <td>0.000</td>\n",
              "      <td>0.000</td>\n",
              "      <td>0.000</td>\n",
              "      <td>0.000</td>\n",
              "      <td>10.000</td>\n",
              "      <td>0.000</td>\n",
              "      <td>1.000</td>\n",
              "      <td>0.010</td>\n",
              "      <td>0.010</td>\n",
              "      <td>0.000</td>\n",
              "      <td>0.000</td>\n",
              "      <td>0.000</td>\n",
              "      <td>949.450</td>\n",
              "      <td>0.000</td>\n",
              "      <td>0.000</td>\n",
              "      <td>0.000</td>\n",
              "      <td>0.000</td>\n",
              "      <td>0.160</td>\n",
              "      <td>0.145</td>\n",
              "    </tr>\n",
              "    <tr>\n",
              "      <th>25%</th>\n",
              "      <td>0.000</td>\n",
              "      <td>0.000</td>\n",
              "      <td>0.000</td>\n",
              "      <td>0.000</td>\n",
              "      <td>50.000</td>\n",
              "      <td>0.000</td>\n",
              "      <td>172999.230</td>\n",
              "      <td>126.320</td>\n",
              "      <td>31.590</td>\n",
              "      <td>0.000</td>\n",
              "      <td>0.000</td>\n",
              "      <td>0.000</td>\n",
              "      <td>658290.480</td>\n",
              "      <td>6.000</td>\n",
              "      <td>0.000</td>\n",
              "      <td>100.000</td>\n",
              "      <td>55300.550</td>\n",
              "      <td>77.000</td>\n",
              "      <td>256.590</td>\n",
              "    </tr>\n",
              "    <tr>\n",
              "      <th>50%</th>\n",
              "      <td>0.000</td>\n",
              "      <td>0.000</td>\n",
              "      <td>0.000</td>\n",
              "      <td>0.000</td>\n",
              "      <td>130.000</td>\n",
              "      <td>0.000</td>\n",
              "      <td>749460.900</td>\n",
              "      <td>900.000</td>\n",
              "      <td>364.730</td>\n",
              "      <td>0.000</td>\n",
              "      <td>0.000</td>\n",
              "      <td>0.000</td>\n",
              "      <td>1255764.690</td>\n",
              "      <td>17.000</td>\n",
              "      <td>99.860</td>\n",
              "      <td>100.000</td>\n",
              "      <td>414364.180</td>\n",
              "      <td>131.000</td>\n",
              "      <td>1105.600</td>\n",
              "    </tr>\n",
              "    <tr>\n",
              "      <th>75%</th>\n",
              "      <td>0.000</td>\n",
              "      <td>1.000</td>\n",
              "      <td>0.000</td>\n",
              "      <td>0.000</td>\n",
              "      <td>260.000</td>\n",
              "      <td>0.000</td>\n",
              "      <td>4129941.120</td>\n",
              "      <td>3934.791</td>\n",
              "      <td>2266.780</td>\n",
              "      <td>0.000</td>\n",
              "      <td>0.000</td>\n",
              "      <td>228.000</td>\n",
              "      <td>2240466.280</td>\n",
              "      <td>33.000</td>\n",
              "      <td>100.000</td>\n",
              "      <td>100.000</td>\n",
              "      <td>746610.120</td>\n",
              "      <td>297.000</td>\n",
              "      <td>6059.035</td>\n",
              "    </tr>\n",
              "    <tr>\n",
              "      <th>max</th>\n",
              "      <td>1.000</td>\n",
              "      <td>1.000</td>\n",
              "      <td>200.000</td>\n",
              "      <td>200.000</td>\n",
              "      <td>2440.000</td>\n",
              "      <td>0.000</td>\n",
              "      <td>27294644.160</td>\n",
              "      <td>9900000.000</td>\n",
              "      <td>15375100.000</td>\n",
              "      <td>8190720.000</td>\n",
              "      <td>8190720.000</td>\n",
              "      <td>346563.000</td>\n",
              "      <td>9756857.460</td>\n",
              "      <td>111.000</td>\n",
              "      <td>118.520</td>\n",
              "      <td>100.000</td>\n",
              "      <td>4119974850.000</td>\n",
              "      <td>4119974850.000</td>\n",
              "      <td>6521197.114</td>\n",
              "    </tr>\n",
              "  </tbody>\n",
              "</table>\n",
              "</div>"
            ],
            "text/plain": [
              "       ParentAsset  ChildAsset  ...     POQuantity       OPEX1\n",
              "count    70390.000   70390.000  ...      63433.000   26907.000\n",
              "mean         0.093       0.411  ...     448313.754   19663.712\n",
              "std          0.291       0.492  ...   37118039.646  164854.537\n",
              "min          0.000       0.000  ...          0.160       0.145\n",
              "25%          0.000       0.000  ...         77.000     256.590\n",
              "50%          0.000       0.000  ...        131.000    1105.600\n",
              "75%          0.000       1.000  ...        297.000    6059.035\n",
              "max          1.000       1.000  ... 4119974850.000 6521197.114\n",
              "\n",
              "[8 rows x 19 columns]"
            ]
          },
          "metadata": {
            "tags": []
          },
          "execution_count": 160
        }
      ]
    },
    {
      "cell_type": "code",
      "metadata": {
        "id": "-dAd4G0hrdRS"
      },
      "source": [
        "# dc_df = dc_df[dc_df[]]"
      ],
      "execution_count": 161,
      "outputs": []
    },
    {
      "cell_type": "code",
      "metadata": {
        "id": "QI-vvv5mNvs0"
      },
      "source": [
        "'''\n",
        "dc_df = dc_df[['PR_Number','PrCreateDate','PrDescription','PRStateDescription','VendorName','DepartmentName','FunctionalArea',\n",
        "              'SAP_PO_Number','PO_CreatedDate','ExpType',\n",
        "              'ReceivingSlip','RecevingSlipStatus','RS_ReceivingDate','ShipDate','VendorShipmentId',\n",
        "              'POLeadTime','Late','PR_AmountInUSD','ToBeDeliveredAmount']]\n",
        "'''\n",
        "dc_df = df[['PR_Number','PrCreateDate','PRStateDescription','VendorName',\n",
        "              'ExpType',\n",
        "              'RecevingSlipStatus','RS_ReceivingDate',\n",
        "              'POLeadTime','Late','PR_AmountInUSD']]"
      ],
      "execution_count": 162,
      "outputs": []
    },
    {
      "cell_type": "code",
      "metadata": {
        "id": "t9eKtvVOrZLI",
        "outputId": "5bc5d407-7644-4243-a485-c72dc15b9124",
        "colab": {
          "base_uri": "https://localhost:8080/"
        }
      },
      "source": [
        "dc_df.shape\n"
      ],
      "execution_count": 163,
      "outputs": [
        {
          "output_type": "execute_result",
          "data": {
            "text/plain": [
              "(70390, 10)"
            ]
          },
          "metadata": {
            "tags": []
          },
          "execution_count": 163
        }
      ]
    },
    {
      "cell_type": "code",
      "metadata": {
        "id": "y6qlmWSSZ8qt",
        "outputId": "359f5d42-4e31-4616-cab9-57e69e2f27d0",
        "colab": {
          "base_uri": "https://localhost:8080/",
          "height": 271
        }
      },
      "source": [
        "dc_df.head()"
      ],
      "execution_count": 164,
      "outputs": [
        {
          "output_type": "execute_result",
          "data": {
            "text/html": [
              "<div>\n",
              "<style scoped>\n",
              "    .dataframe tbody tr th:only-of-type {\n",
              "        vertical-align: middle;\n",
              "    }\n",
              "\n",
              "    .dataframe tbody tr th {\n",
              "        vertical-align: top;\n",
              "    }\n",
              "\n",
              "    .dataframe thead th {\n",
              "        text-align: right;\n",
              "    }\n",
              "</style>\n",
              "<table border=\"1\" class=\"dataframe\">\n",
              "  <thead>\n",
              "    <tr style=\"text-align: right;\">\n",
              "      <th style=\"min-width: {};\"></th>\n",
              "      <th style=\"min-width: {};\">PR_Number</th>\n",
              "      <th style=\"min-width: {};\">PrCreateDate</th>\n",
              "      <th style=\"min-width: {};\">PRStateDescription</th>\n",
              "      <th style=\"min-width: {};\">VendorName</th>\n",
              "      <th style=\"min-width: {};\">ExpType</th>\n",
              "      <th style=\"min-width: {};\">RecevingSlipStatus</th>\n",
              "      <th style=\"min-width: {};\">RS_ReceivingDate</th>\n",
              "      <th style=\"min-width: {};\">POLeadTime</th>\n",
              "      <th style=\"min-width: {};\">Late</th>\n",
              "      <th style=\"min-width: {};\">PR_AmountInUSD</th>\n",
              "    </tr>\n",
              "  </thead>\n",
              "  <tbody>\n",
              "    <tr>\n",
              "      <th>0</th>\n",
              "      <td>PR0095868</td>\n",
              "      <td>2020-01-13</td>\n",
              "      <td>Closed Complete</td>\n",
              "      <td>SHI International Corp.</td>\n",
              "      <td>CAPEX</td>\n",
              "      <td>Complete</td>\n",
              "      <td>2020-07-17</td>\n",
              "      <td>186</td>\n",
              "      <td>-88</td>\n",
              "      <td>1431151.850</td>\n",
              "    </tr>\n",
              "    <tr>\n",
              "      <th>1</th>\n",
              "      <td>PR0102699</td>\n",
              "      <td>2020-05-18</td>\n",
              "      <td>Closed Complete</td>\n",
              "      <td>Redapt Holdings, Inc. Redapt, Inc.</td>\n",
              "      <td>CAPEX</td>\n",
              "      <td>Complete</td>\n",
              "      <td>2020-07-17</td>\n",
              "      <td>60</td>\n",
              "      <td>-7</td>\n",
              "      <td>16210.520</td>\n",
              "    </tr>\n",
              "    <tr>\n",
              "      <th>2</th>\n",
              "      <td>PR0102699</td>\n",
              "      <td>2020-05-18</td>\n",
              "      <td>Closed Complete</td>\n",
              "      <td>Redapt Holdings, Inc. Redapt, Inc.</td>\n",
              "      <td>OPEX</td>\n",
              "      <td>Complete</td>\n",
              "      <td>2020-07-17</td>\n",
              "      <td>60</td>\n",
              "      <td>-7</td>\n",
              "      <td>16210.520</td>\n",
              "    </tr>\n",
              "    <tr>\n",
              "      <th>3</th>\n",
              "      <td>PR0102900</td>\n",
              "      <td>2020-05-21</td>\n",
              "      <td>Closed Complete</td>\n",
              "      <td>Redapt Holdings, Inc. Redapt, Inc.</td>\n",
              "      <td>CAPEX</td>\n",
              "      <td>Complete</td>\n",
              "      <td>2020-07-17</td>\n",
              "      <td>57</td>\n",
              "      <td>-17</td>\n",
              "      <td>89326.280</td>\n",
              "    </tr>\n",
              "    <tr>\n",
              "      <th>4</th>\n",
              "      <td>PR0102900</td>\n",
              "      <td>2020-05-21</td>\n",
              "      <td>Closed Complete</td>\n",
              "      <td>Redapt Holdings, Inc. Redapt, Inc.</td>\n",
              "      <td>OPEX</td>\n",
              "      <td>Complete</td>\n",
              "      <td>2020-07-17</td>\n",
              "      <td>57</td>\n",
              "      <td>-17</td>\n",
              "      <td>89326.280</td>\n",
              "    </tr>\n",
              "  </tbody>\n",
              "</table>\n",
              "</div>"
            ],
            "text/plain": [
              "   PR_Number PrCreateDate PRStateDescription  ... POLeadTime Late PR_AmountInUSD\n",
              "0  PR0095868   2020-01-13    Closed Complete  ...        186  -88    1431151.850\n",
              "1  PR0102699   2020-05-18    Closed Complete  ...         60   -7      16210.520\n",
              "2  PR0102699   2020-05-18    Closed Complete  ...         60   -7      16210.520\n",
              "3  PR0102900   2020-05-21    Closed Complete  ...         57  -17      89326.280\n",
              "4  PR0102900   2020-05-21    Closed Complete  ...         57  -17      89326.280\n",
              "\n",
              "[5 rows x 10 columns]"
            ]
          },
          "metadata": {
            "tags": []
          },
          "execution_count": 164
        }
      ]
    },
    {
      "cell_type": "code",
      "metadata": {
        "id": "ZXi6kMFGaeAu",
        "outputId": "48f0dbaa-f475-4d78-c0f0-aed474c64048",
        "colab": {
          "base_uri": "https://localhost:8080/"
        }
      },
      "source": [
        "dc_df.columns"
      ],
      "execution_count": 165,
      "outputs": [
        {
          "output_type": "execute_result",
          "data": {
            "text/plain": [
              "Index(['PR_Number', 'PrCreateDate', 'PRStateDescription', 'VendorName',\n",
              "       'ExpType', 'RecevingSlipStatus', 'RS_ReceivingDate', 'POLeadTime',\n",
              "       'Late', 'PR_AmountInUSD'],\n",
              "      dtype='object')"
            ]
          },
          "metadata": {
            "tags": []
          },
          "execution_count": 165
        }
      ]
    },
    {
      "cell_type": "code",
      "metadata": {
        "id": "DpQ6Y_yXtwGg"
      },
      "source": [
        "dc_df=dc_df[:20]"
      ],
      "execution_count": 166,
      "outputs": []
    },
    {
      "cell_type": "code",
      "metadata": {
        "id": "XHOYZjuhtSvM",
        "outputId": "cb4d81f5-2b50-434e-ee1e-2f116f278f75",
        "colab": {
          "base_uri": "https://localhost:8080/"
        }
      },
      "source": [
        "dc_df.columns.size"
      ],
      "execution_count": 167,
      "outputs": [
        {
          "output_type": "execute_result",
          "data": {
            "text/plain": [
              "10"
            ]
          },
          "metadata": {
            "tags": []
          },
          "execution_count": 167
        }
      ]
    },
    {
      "cell_type": "code",
      "metadata": {
        "id": "R5Ad_F0JarEz"
      },
      "source": [
        "dc_df = dc_df.astype(str)"
      ],
      "execution_count": 168,
      "outputs": []
    },
    {
      "cell_type": "code",
      "metadata": {
        "id": "2Kow9UI7rDmh"
      },
      "source": [
        "list_of_list=[[]]\n",
        "list_of_list[0] = list(dc_df.columns)\n",
        "list_of_list.extend(dc_df.values.tolist())\n",
        "#list_of_list[[]]"
      ],
      "execution_count": 169,
      "outputs": []
    },
    {
      "cell_type": "markdown",
      "metadata": {
        "id": "Cu3Vjed2Ew_d"
      },
      "source": [
        "### Helper functions"
      ]
    },
    {
      "cell_type": "code",
      "metadata": {
        "id": "uFGrZe6BuF7Q"
      },
      "source": [
        "max_seq_length =512\n",
        "vocab_file = \"tapas_sqa_base/vocab.txt\"\n",
        "config = tf_example_utils.ClassifierConversionConfig(\n",
        "    vocab_file=vocab_file,\n",
        "    max_seq_length=max_seq_length,\n",
        "    max_column_id=max_seq_length,\n",
        "    max_row_id=max_seq_length,\n",
        "    strip_column_names=False,\n",
        "    add_aggregation_candidates=False,\n",
        ")\n",
        "converter = tf_example_utils.ToClassifierTensorflowExample(config)\n",
        "\n",
        "def convert_interactions_to_examples(tables_and_queries):\n",
        "  \"\"\"Calls Tapas converter to convert interaction to example.\"\"\"\n",
        "  for idx, (table, queries) in enumerate(tables_and_queries):\n",
        "    interaction = interaction_pb2.Interaction()\n",
        "    for position, query in enumerate(queries):\n",
        "      question = interaction.questions.add()\n",
        "      question.original_text = query\n",
        "      question.id = f\"{idx}-0_{position}\"\n",
        "    for header in table[0]:\n",
        "      interaction.table.columns.add().text = header\n",
        "    for line in table[1:]:\n",
        "      row = interaction.table.rows.add()\n",
        "      for cell in line:\n",
        "        row.cells.add().text = cell\n",
        "    number_annotation_utils.add_numeric_values(interaction)\n",
        "    for i in range(len(interaction.questions)):\n",
        "      try:\n",
        "        yield converter.convert(interaction, i)\n",
        "      except ValueError as e:\n",
        "        print(f\"Can't convert interaction: {interaction.id} error: {e}\")\n",
        "        \n",
        "def write_tf_example(filename, examples):\n",
        "  with tf.io.TFRecordWriter(filename) as writer:\n",
        "    for example in examples:\n",
        "      writer.write(example.SerializeToString())\n",
        "\n",
        "def predict(table_data, queries):\n",
        "  table = table_data\n",
        "  examples = convert_interactions_to_examples([(table, queries)])\n",
        "  write_tf_example(\"results/sqa/tf_examples/test.tfrecord\", examples)\n",
        "  write_tf_example(\"results/sqa/tf_examples/random-split-1-dev.tfrecord\", [])\n",
        "  \n",
        "  ! python tapas/tapas/run_task_main.py \\\n",
        "    --task=\"SQA\" \\\n",
        "    --output_dir=\"results\" \\\n",
        "    --noloop_predict \\\n",
        "    --test_batch_size={len(queries)} \\\n",
        "    --tapas_verbosity=\"ERROR\" \\\n",
        "    --compression_type= \\\n",
        "    --init_checkpoint=\"tapas_sqa_base/model.ckpt\" \\\n",
        "    --bert_config_file=\"tapas_sqa_base/bert_config.json\" \\\n",
        "    --mode=\"predict\" 2> error\n",
        "\n",
        "\n",
        "  results_path = \"results/sqa/model/test_sequence.tsv\"\n",
        "  all_coordinates = []\n",
        "  df = pd.DataFrame(table[1:], columns=table[0])\n",
        "  display(IPython.display.HTML(df.to_html(index=False)))\n",
        "  print()\n",
        "  with open(results_path) as csvfile:\n",
        "    reader = csv.DictReader(csvfile, delimiter='\\t')\n",
        "    for row in reader:\n",
        "      coordinates = prediction_utils.parse_coordinates(row[\"answer_coordinates\"])\n",
        "      all_coordinates.append(coordinates)\n",
        "      answers = ', '.join([table[row + 1][col] for row, col in coordinates])\n",
        "      position = int(row['position'])\n",
        "      print(\">\", queries[position])\n",
        "      print(answers)\n",
        "  return all_coordinates"
      ],
      "execution_count": 170,
      "outputs": []
    },
    {
      "cell_type": "code",
      "metadata": {
        "id": "faZgIOKjo3h-",
        "outputId": "9ceff74a-1b2f-48ac-d5aa-4a63cb8edbf4",
        "colab": {
          "base_uri": "https://localhost:8080/"
        }
      },
      "source": [
        "!ls -l"
      ],
      "execution_count": 171,
      "outputs": [
        {
          "output_type": "stream",
          "text": [
            "total 1243820\n",
            "-rw-r--r-- 1 root root  104114760 Oct 30 00:46 cloud_spend-1.pkl\n",
            "-rw-r--r-- 1 root root       4338 Oct 30 00:21 ConverseQuery.py\n",
            "-rwxr-xr-x 1 root root   26683198 Oct  8  2019 ngrok\n",
            "-rw-r--r-- 1 root root   13773305 Oct 29 18:36 ngrok-stable-linux-amd64.zip\n",
            "-rw-r--r-- 1 root root   13773305 Oct 29 19:17 ngrok-stable-linux-amd64.zip.1\n",
            "drwxr-xr-x 3 root root       4096 Oct 30 00:26 results\n",
            "drwxr-xr-x 4 root root       4096 Oct 29 16:23 sqa\n",
            "drwxr-xr-x 5 root root       4096 Oct 30 00:25 tapas\n",
            "drwxr-x--- 2 root root       4096 Apr 29  2020 tapas_sqa_base\n",
            "-rw-r--r-- 1 root root 1115287043 Oct 30 00:26 tapas_sqa_base.zip\n"
          ],
          "name": "stdout"
        }
      ]
    },
    {
      "cell_type": "code",
      "metadata": {
        "id": "rYVXz1L8vTiv",
        "outputId": "e1e48f91-1d70-43de-f1bd-e8c58ad7f180",
        "colab": {
          "base_uri": "https://localhost:8080/"
        }
      },
      "source": [
        "dc_df.shape"
      ],
      "execution_count": 172,
      "outputs": [
        {
          "output_type": "execute_result",
          "data": {
            "text/plain": [
              "(20, 10)"
            ]
          },
          "metadata": {
            "tags": []
          },
          "execution_count": 172
        }
      ]
    },
    {
      "cell_type": "code",
      "metadata": {
        "id": "07HtkVrjNy-U",
        "outputId": "4f97462f-a8a7-40c1-b80b-379cab77bb7b",
        "colab": {
          "base_uri": "https://localhost:8080/"
        }
      },
      "source": [
        "list_of_list[:5]"
      ],
      "execution_count": 173,
      "outputs": [
        {
          "output_type": "execute_result",
          "data": {
            "text/plain": [
              "[['PR_Number',\n",
              "  'PrCreateDate',\n",
              "  'PRStateDescription',\n",
              "  'VendorName',\n",
              "  'ExpType',\n",
              "  'RecevingSlipStatus',\n",
              "  'RS_ReceivingDate',\n",
              "  'POLeadTime',\n",
              "  'Late',\n",
              "  'PR_AmountInUSD'],\n",
              " ['PR0095868',\n",
              "  '2020-01-13',\n",
              "  'Closed Complete',\n",
              "  'SHI International Corp.',\n",
              "  'CAPEX',\n",
              "  'Complete',\n",
              "  '2020-07-17',\n",
              "  '186',\n",
              "  '-88',\n",
              "  '1431151.85'],\n",
              " ['PR0102699',\n",
              "  '2020-05-18',\n",
              "  'Closed Complete',\n",
              "  'Redapt Holdings, Inc. Redapt, Inc.',\n",
              "  'CAPEX',\n",
              "  'Complete',\n",
              "  '2020-07-17',\n",
              "  '60',\n",
              "  '-7',\n",
              "  '16210.52'],\n",
              " ['PR0102699',\n",
              "  '2020-05-18',\n",
              "  'Closed Complete',\n",
              "  'Redapt Holdings, Inc. Redapt, Inc.',\n",
              "  'OPEX',\n",
              "  'Complete',\n",
              "  '2020-07-17',\n",
              "  '60',\n",
              "  '-7',\n",
              "  '16210.52'],\n",
              " ['PR0102900',\n",
              "  '2020-05-21',\n",
              "  'Closed Complete',\n",
              "  'Redapt Holdings, Inc. Redapt, Inc.',\n",
              "  'CAPEX',\n",
              "  'Complete',\n",
              "  '2020-07-17',\n",
              "  '57',\n",
              "  '-17',\n",
              "  '89326.28']]"
            ]
          },
          "metadata": {
            "tags": []
          },
          "execution_count": 173
        }
      ]
    },
    {
      "cell_type": "markdown",
      "metadata": {
        "id": "Du2HRTBJNLeP"
      },
      "source": [
        "## Predict from Cloud Spend "
      ]
    },
    {
      "cell_type": "code",
      "metadata": {
        "id": "mJt6toTGOXiZ"
      },
      "source": [
        ""
      ],
      "execution_count": 173,
      "outputs": []
    },
    {
      "cell_type": "code",
      "metadata": {
        "id": "4DdvvDV5E7H2",
        "outputId": "96316781-5db2-4251-96f8-282774eaa08a",
        "colab": {
          "base_uri": "https://localhost:8080/",
          "height": 1000
        }
      },
      "source": [
        "result = predict(list_of_list, [\"What is the maximum POLeadTime?\",\n",
        "                                \"Show me all Vendor Names?\",\n",
        "                                \"What is total PR amount for CAPEX?\",\n",
        "                                \"Show PR number with Closed Complete status?\"])\n",
        "\n",
        "   \n",
        "     # ,\n",
        "      #\"Show me  PR Status that are not Closed Complete?\",\n",
        "      #\"What is PR_AmountInUSD ExpenseType ?\"])"
      ],
      "execution_count": 174,
      "outputs": [
        {
          "output_type": "stream",
          "text": [
            "is_built_with_cuda: True\n",
            "is_gpu_available: False\n",
            "GPUs: []\n",
            "Training or predicting ...\n",
            "Evaluation finished after training step 0.\n"
          ],
          "name": "stdout"
        },
        {
          "output_type": "display_data",
          "data": {
            "text/html": [
              "<table border=\"1\" class=\"dataframe\">\n",
              "  <thead>\n",
              "    <tr style=\"text-align: right;\">\n",
              "      <th style=\"min-width: {};\">PR_Number</th>\n",
              "      <th style=\"min-width: {};\">PrCreateDate</th>\n",
              "      <th style=\"min-width: {};\">PRStateDescription</th>\n",
              "      <th style=\"min-width: {};\">VendorName</th>\n",
              "      <th style=\"min-width: {};\">ExpType</th>\n",
              "      <th style=\"min-width: {};\">RecevingSlipStatus</th>\n",
              "      <th style=\"min-width: {};\">RS_ReceivingDate</th>\n",
              "      <th style=\"min-width: {};\">POLeadTime</th>\n",
              "      <th style=\"min-width: {};\">Late</th>\n",
              "      <th style=\"min-width: {};\">PR_AmountInUSD</th>\n",
              "    </tr>\n",
              "  </thead>\n",
              "  <tbody>\n",
              "    <tr>\n",
              "      <td>PR0095868</td>\n",
              "      <td>2020-01-13</td>\n",
              "      <td>Closed Complete</td>\n",
              "      <td>SHI International Corp.</td>\n",
              "      <td>CAPEX</td>\n",
              "      <td>Complete</td>\n",
              "      <td>2020-07-17</td>\n",
              "      <td>186</td>\n",
              "      <td>-88</td>\n",
              "      <td>1431151.85</td>\n",
              "    </tr>\n",
              "    <tr>\n",
              "      <td>PR0102699</td>\n",
              "      <td>2020-05-18</td>\n",
              "      <td>Closed Complete</td>\n",
              "      <td>Redapt Holdings, Inc. Redapt, Inc.</td>\n",
              "      <td>CAPEX</td>\n",
              "      <td>Complete</td>\n",
              "      <td>2020-07-17</td>\n",
              "      <td>60</td>\n",
              "      <td>-7</td>\n",
              "      <td>16210.52</td>\n",
              "    </tr>\n",
              "    <tr>\n",
              "      <td>PR0102699</td>\n",
              "      <td>2020-05-18</td>\n",
              "      <td>Closed Complete</td>\n",
              "      <td>Redapt Holdings, Inc. Redapt, Inc.</td>\n",
              "      <td>OPEX</td>\n",
              "      <td>Complete</td>\n",
              "      <td>2020-07-17</td>\n",
              "      <td>60</td>\n",
              "      <td>-7</td>\n",
              "      <td>16210.52</td>\n",
              "    </tr>\n",
              "    <tr>\n",
              "      <td>PR0102900</td>\n",
              "      <td>2020-05-21</td>\n",
              "      <td>Closed Complete</td>\n",
              "      <td>Redapt Holdings, Inc. Redapt, Inc.</td>\n",
              "      <td>CAPEX</td>\n",
              "      <td>Complete</td>\n",
              "      <td>2020-07-17</td>\n",
              "      <td>57</td>\n",
              "      <td>-17</td>\n",
              "      <td>89326.28</td>\n",
              "    </tr>\n",
              "    <tr>\n",
              "      <td>PR0102900</td>\n",
              "      <td>2020-05-21</td>\n",
              "      <td>Closed Complete</td>\n",
              "      <td>Redapt Holdings, Inc. Redapt, Inc.</td>\n",
              "      <td>OPEX</td>\n",
              "      <td>Complete</td>\n",
              "      <td>2020-07-17</td>\n",
              "      <td>57</td>\n",
              "      <td>-17</td>\n",
              "      <td>89326.28</td>\n",
              "    </tr>\n",
              "    <tr>\n",
              "      <td>PR0102268</td>\n",
              "      <td>2020-05-06</td>\n",
              "      <td>Closed Complete</td>\n",
              "      <td>Redapt Holdings, Inc. Redapt, Inc.</td>\n",
              "      <td>OPEX</td>\n",
              "      <td>nan</td>\n",
              "      <td>nan</td>\n",
              "      <td>nan</td>\n",
              "      <td>nan</td>\n",
              "      <td>824.42</td>\n",
              "    </tr>\n",
              "    <tr>\n",
              "      <td>PR0104990</td>\n",
              "      <td>2020-07-08</td>\n",
              "      <td>Closed Complete</td>\n",
              "      <td>SHI GLOBAL IT SOLUTIONS IRELAND LIMITED</td>\n",
              "      <td>OPEX</td>\n",
              "      <td>nan</td>\n",
              "      <td>nan</td>\n",
              "      <td>nan</td>\n",
              "      <td>nan</td>\n",
              "      <td>16544.74</td>\n",
              "    </tr>\n",
              "    <tr>\n",
              "      <td>PR0104990</td>\n",
              "      <td>2020-07-08</td>\n",
              "      <td>Closed Complete</td>\n",
              "      <td>SHI GLOBAL IT SOLUTIONS IRELAND LIMITED</td>\n",
              "      <td>OPEX</td>\n",
              "      <td>nan</td>\n",
              "      <td>nan</td>\n",
              "      <td>nan</td>\n",
              "      <td>nan</td>\n",
              "      <td>16544.74</td>\n",
              "    </tr>\n",
              "    <tr>\n",
              "      <td>PR0104990</td>\n",
              "      <td>2020-07-08</td>\n",
              "      <td>Closed Complete</td>\n",
              "      <td>SHI GLOBAL IT SOLUTIONS IRELAND LIMITED</td>\n",
              "      <td>OPEX</td>\n",
              "      <td>nan</td>\n",
              "      <td>nan</td>\n",
              "      <td>nan</td>\n",
              "      <td>nan</td>\n",
              "      <td>16544.74</td>\n",
              "    </tr>\n",
              "    <tr>\n",
              "      <td>PR0104990</td>\n",
              "      <td>2020-07-08</td>\n",
              "      <td>Closed Complete</td>\n",
              "      <td>SHI GLOBAL IT SOLUTIONS IRELAND LIMITED</td>\n",
              "      <td>OPEX</td>\n",
              "      <td>nan</td>\n",
              "      <td>nan</td>\n",
              "      <td>nan</td>\n",
              "      <td>nan</td>\n",
              "      <td>16544.74</td>\n",
              "    </tr>\n",
              "    <tr>\n",
              "      <td>PR0104990</td>\n",
              "      <td>2020-07-08</td>\n",
              "      <td>Closed Complete</td>\n",
              "      <td>SHI GLOBAL IT SOLUTIONS IRELAND LIMITED</td>\n",
              "      <td>OPEX</td>\n",
              "      <td>nan</td>\n",
              "      <td>nan</td>\n",
              "      <td>nan</td>\n",
              "      <td>nan</td>\n",
              "      <td>16544.74</td>\n",
              "    </tr>\n",
              "    <tr>\n",
              "      <td>PR0104990</td>\n",
              "      <td>2020-07-08</td>\n",
              "      <td>Closed Complete</td>\n",
              "      <td>SHI GLOBAL IT SOLUTIONS IRELAND LIMITED</td>\n",
              "      <td>OPEX</td>\n",
              "      <td>nan</td>\n",
              "      <td>nan</td>\n",
              "      <td>nan</td>\n",
              "      <td>nan</td>\n",
              "      <td>16544.74</td>\n",
              "    </tr>\n",
              "    <tr>\n",
              "      <td>PR0104990</td>\n",
              "      <td>2020-07-08</td>\n",
              "      <td>Closed Complete</td>\n",
              "      <td>SHI GLOBAL IT SOLUTIONS IRELAND LIMITED</td>\n",
              "      <td>OPEX</td>\n",
              "      <td>nan</td>\n",
              "      <td>nan</td>\n",
              "      <td>nan</td>\n",
              "      <td>nan</td>\n",
              "      <td>16544.74</td>\n",
              "    </tr>\n",
              "    <tr>\n",
              "      <td>PR0104990</td>\n",
              "      <td>2020-07-08</td>\n",
              "      <td>Closed Complete</td>\n",
              "      <td>SHI GLOBAL IT SOLUTIONS IRELAND LIMITED</td>\n",
              "      <td>OPEX</td>\n",
              "      <td>nan</td>\n",
              "      <td>nan</td>\n",
              "      <td>nan</td>\n",
              "      <td>nan</td>\n",
              "      <td>16544.74</td>\n",
              "    </tr>\n",
              "    <tr>\n",
              "      <td>PR0104990</td>\n",
              "      <td>2020-07-08</td>\n",
              "      <td>Closed Complete</td>\n",
              "      <td>SHI GLOBAL IT SOLUTIONS IRELAND LIMITED</td>\n",
              "      <td>OPEX</td>\n",
              "      <td>nan</td>\n",
              "      <td>nan</td>\n",
              "      <td>nan</td>\n",
              "      <td>nan</td>\n",
              "      <td>16544.74</td>\n",
              "    </tr>\n",
              "    <tr>\n",
              "      <td>PR0104992</td>\n",
              "      <td>2020-07-08</td>\n",
              "      <td>Closed Complete</td>\n",
              "      <td>SHI GLOBAL IT SOLUTIONS IRELAND LIMITED</td>\n",
              "      <td>OPEX</td>\n",
              "      <td>nan</td>\n",
              "      <td>nan</td>\n",
              "      <td>nan</td>\n",
              "      <td>nan</td>\n",
              "      <td>16546.44</td>\n",
              "    </tr>\n",
              "    <tr>\n",
              "      <td>PR0104992</td>\n",
              "      <td>2020-07-08</td>\n",
              "      <td>Closed Complete</td>\n",
              "      <td>SHI GLOBAL IT SOLUTIONS IRELAND LIMITED</td>\n",
              "      <td>OPEX</td>\n",
              "      <td>nan</td>\n",
              "      <td>nan</td>\n",
              "      <td>nan</td>\n",
              "      <td>nan</td>\n",
              "      <td>16546.44</td>\n",
              "    </tr>\n",
              "    <tr>\n",
              "      <td>PR0104992</td>\n",
              "      <td>2020-07-08</td>\n",
              "      <td>Closed Complete</td>\n",
              "      <td>SHI GLOBAL IT SOLUTIONS IRELAND LIMITED</td>\n",
              "      <td>OPEX</td>\n",
              "      <td>nan</td>\n",
              "      <td>nan</td>\n",
              "      <td>nan</td>\n",
              "      <td>nan</td>\n",
              "      <td>16546.44</td>\n",
              "    </tr>\n",
              "    <tr>\n",
              "      <td>PR0104992</td>\n",
              "      <td>2020-07-08</td>\n",
              "      <td>Closed Complete</td>\n",
              "      <td>SHI GLOBAL IT SOLUTIONS IRELAND LIMITED</td>\n",
              "      <td>OPEX</td>\n",
              "      <td>nan</td>\n",
              "      <td>nan</td>\n",
              "      <td>nan</td>\n",
              "      <td>nan</td>\n",
              "      <td>16546.44</td>\n",
              "    </tr>\n",
              "    <tr>\n",
              "      <td>PR0104992</td>\n",
              "      <td>2020-07-08</td>\n",
              "      <td>Closed Complete</td>\n",
              "      <td>SHI GLOBAL IT SOLUTIONS IRELAND LIMITED</td>\n",
              "      <td>OPEX</td>\n",
              "      <td>nan</td>\n",
              "      <td>nan</td>\n",
              "      <td>nan</td>\n",
              "      <td>nan</td>\n",
              "      <td>16546.44</td>\n",
              "    </tr>\n",
              "  </tbody>\n",
              "</table>"
            ],
            "text/plain": [
              "<IPython.core.display.HTML object>"
            ]
          },
          "metadata": {
            "tags": []
          }
        },
        {
          "output_type": "stream",
          "text": [
            "\n",
            "> What is the maximum POLeadTime?\n",
            "186\n",
            "> Show me all Vendor Names?\n",
            "SHI GLOBAL IT SOLUTIONS IRELAND LIMITED, SHI GLOBAL IT SOLUTIONS IRELAND LIMITED, Redapt Holdings, Inc. Redapt, Inc., SHI GLOBAL IT SOLUTIONS IRELAND LIMITED, Redapt Holdings, Inc. Redapt, Inc., SHI GLOBAL IT SOLUTIONS IRELAND LIMITED, SHI GLOBAL IT SOLUTIONS IRELAND LIMITED, SHI GLOBAL IT SOLUTIONS IRELAND LIMITED, SHI GLOBAL IT SOLUTIONS IRELAND LIMITED, SHI GLOBAL IT SOLUTIONS IRELAND LIMITED, SHI GLOBAL IT SOLUTIONS IRELAND LIMITED, SHI GLOBAL IT SOLUTIONS IRELAND LIMITED, Redapt Holdings, Inc. Redapt, Inc., SHI GLOBAL IT SOLUTIONS IRELAND LIMITED, Redapt Holdings, Inc. Redapt, Inc., SHI GLOBAL IT SOLUTIONS IRELAND LIMITED, SHI International Corp., SHI GLOBAL IT SOLUTIONS IRELAND LIMITED, SHI GLOBAL IT SOLUTIONS IRELAND LIMITED, Redapt Holdings, Inc. Redapt, Inc.\n",
            "> What is total PR amount for CAPEX?\n",
            "SHI International Corp., Redapt Holdings, Inc. Redapt, Inc., Redapt Holdings, Inc. Redapt, Inc.\n",
            "> Show PR number with Closed Complete status?\n",
            "\n"
          ],
          "name": "stdout"
        }
      ]
    },
    {
      "cell_type": "code",
      "metadata": {
        "id": "_ncd0Wh-wfrF",
        "outputId": "f176022f-ae54-4689-cc1a-bb648c206cb0",
        "colab": {
          "base_uri": "https://localhost:8080/"
        }
      },
      "source": [
        "print(result)"
      ],
      "execution_count": 104,
      "outputs": [
        {
          "output_type": "stream",
          "text": [
            "[{(0, 7)}, {(7, 3), (8, 3), (1, 3), (18, 3), (3, 3), (13, 3), (15, 3), (16, 3), (9, 3), (11, 3), (6, 3), (17, 3), (2, 3), (19, 3), (4, 3), (14, 3), (0, 3), (10, 3), (12, 3), (5, 3)}, {(0, 3), (1, 3), (3, 3)}, set()]\n"
          ],
          "name": "stdout"
        }
      ]
    },
    {
      "cell_type": "markdown",
      "metadata": {
        "id": "f6am8mnzNpvw"
      },
      "source": [
        "### Download Streamlit"
      ]
    },
    {
      "cell_type": "markdown",
      "metadata": {
        "id": "jlWAHtVvN5KA"
      },
      "source": [
        ""
      ]
    },
    {
      "cell_type": "code",
      "metadata": {
        "id": "h_svg_AZhY7z"
      },
      "source": [
        "!pip install streamlit -q"
      ],
      "execution_count": 176,
      "outputs": []
    },
    {
      "cell_type": "code",
      "metadata": {
        "id": "RC4raSpCNlKT",
        "outputId": "cbe091e8-d877-4358-c5dd-c5f840aa43b6",
        "colab": {
          "base_uri": "https://localhost:8080/",
          "height": 329
        }
      },
      "source": [
        "import streamlit as st"
      ],
      "execution_count": 178,
      "outputs": [
        {
          "output_type": "error",
          "ename": "ContextualVersionConflict",
          "evalue": "ignored",
          "traceback": [
            "\u001b[0;31m---------------------------------------------------------------------------\u001b[0m",
            "\u001b[0;31mContextualVersionConflict\u001b[0m                 Traceback (most recent call last)",
            "\u001b[0;32m<ipython-input-178-1aa3dc4fa683>\u001b[0m in \u001b[0;36m<module>\u001b[0;34m()\u001b[0m\n\u001b[0;32m----> 1\u001b[0;31m \u001b[0;32mimport\u001b[0m \u001b[0mstreamlit\u001b[0m \u001b[0;32mas\u001b[0m \u001b[0mst\u001b[0m\u001b[0;34m\u001b[0m\u001b[0;34m\u001b[0m\u001b[0m\n\u001b[0m",
            "\u001b[0;32m/usr/local/lib/python3.6/dist-packages/streamlit/__init__.py\u001b[0m in \u001b[0;36m<module>\u001b[0;34m()\u001b[0m\n\u001b[1;32m     59\u001b[0m \u001b[0;31m# This used to be pkg_resources.require('streamlit') but it would cause\u001b[0m\u001b[0;34m\u001b[0m\u001b[0;34m\u001b[0m\u001b[0;34m\u001b[0m\u001b[0m\n\u001b[1;32m     60\u001b[0m \u001b[0;31m# pex files to fail. See #394 for more details.\u001b[0m\u001b[0;34m\u001b[0m\u001b[0;34m\u001b[0m\u001b[0;34m\u001b[0m\u001b[0m\n\u001b[0;32m---> 61\u001b[0;31m \u001b[0m__version__\u001b[0m \u001b[0;34m=\u001b[0m \u001b[0m_pkg_resources\u001b[0m\u001b[0;34m.\u001b[0m\u001b[0mget_distribution\u001b[0m\u001b[0;34m(\u001b[0m\u001b[0;34m\"streamlit\"\u001b[0m\u001b[0;34m)\u001b[0m\u001b[0;34m.\u001b[0m\u001b[0mversion\u001b[0m\u001b[0;34m\u001b[0m\u001b[0;34m\u001b[0m\u001b[0m\n\u001b[0m\u001b[1;32m     62\u001b[0m \u001b[0;34m\u001b[0m\u001b[0m\n\u001b[1;32m     63\u001b[0m \u001b[0;32mimport\u001b[0m \u001b[0mcontextlib\u001b[0m \u001b[0;32mas\u001b[0m \u001b[0m_contextlib\u001b[0m\u001b[0;34m\u001b[0m\u001b[0;34m\u001b[0m\u001b[0m\n",
            "\u001b[0;32m/usr/local/lib/python3.6/dist-packages/pkg_resources/__init__.py\u001b[0m in \u001b[0;36mget_distribution\u001b[0;34m(dist)\u001b[0m\n\u001b[1;32m    463\u001b[0m         \u001b[0mdist\u001b[0m \u001b[0;34m=\u001b[0m \u001b[0mRequirement\u001b[0m\u001b[0;34m.\u001b[0m\u001b[0mparse\u001b[0m\u001b[0;34m(\u001b[0m\u001b[0mdist\u001b[0m\u001b[0;34m)\u001b[0m\u001b[0;34m\u001b[0m\u001b[0;34m\u001b[0m\u001b[0m\n\u001b[1;32m    464\u001b[0m     \u001b[0;32mif\u001b[0m \u001b[0misinstance\u001b[0m\u001b[0;34m(\u001b[0m\u001b[0mdist\u001b[0m\u001b[0;34m,\u001b[0m \u001b[0mRequirement\u001b[0m\u001b[0;34m)\u001b[0m\u001b[0;34m:\u001b[0m\u001b[0;34m\u001b[0m\u001b[0;34m\u001b[0m\u001b[0m\n\u001b[0;32m--> 465\u001b[0;31m         \u001b[0mdist\u001b[0m \u001b[0;34m=\u001b[0m \u001b[0mget_provider\u001b[0m\u001b[0;34m(\u001b[0m\u001b[0mdist\u001b[0m\u001b[0;34m)\u001b[0m\u001b[0;34m\u001b[0m\u001b[0;34m\u001b[0m\u001b[0m\n\u001b[0m\u001b[1;32m    466\u001b[0m     \u001b[0;32mif\u001b[0m \u001b[0;32mnot\u001b[0m \u001b[0misinstance\u001b[0m\u001b[0;34m(\u001b[0m\u001b[0mdist\u001b[0m\u001b[0;34m,\u001b[0m \u001b[0mDistribution\u001b[0m\u001b[0;34m)\u001b[0m\u001b[0;34m:\u001b[0m\u001b[0;34m\u001b[0m\u001b[0;34m\u001b[0m\u001b[0m\n\u001b[1;32m    467\u001b[0m         \u001b[0;32mraise\u001b[0m \u001b[0mTypeError\u001b[0m\u001b[0;34m(\u001b[0m\u001b[0;34m\"Expected string, Requirement, or Distribution\"\u001b[0m\u001b[0;34m,\u001b[0m \u001b[0mdist\u001b[0m\u001b[0;34m)\u001b[0m\u001b[0;34m\u001b[0m\u001b[0;34m\u001b[0m\u001b[0m\n",
            "\u001b[0;32m/usr/local/lib/python3.6/dist-packages/pkg_resources/__init__.py\u001b[0m in \u001b[0;36mget_provider\u001b[0;34m(moduleOrReq)\u001b[0m\n\u001b[1;32m    339\u001b[0m     \u001b[0;34m\"\"\"Return an IResourceProvider for the named module or requirement\"\"\"\u001b[0m\u001b[0;34m\u001b[0m\u001b[0;34m\u001b[0m\u001b[0m\n\u001b[1;32m    340\u001b[0m     \u001b[0;32mif\u001b[0m \u001b[0misinstance\u001b[0m\u001b[0;34m(\u001b[0m\u001b[0mmoduleOrReq\u001b[0m\u001b[0;34m,\u001b[0m \u001b[0mRequirement\u001b[0m\u001b[0;34m)\u001b[0m\u001b[0;34m:\u001b[0m\u001b[0;34m\u001b[0m\u001b[0;34m\u001b[0m\u001b[0m\n\u001b[0;32m--> 341\u001b[0;31m         \u001b[0;32mreturn\u001b[0m \u001b[0mworking_set\u001b[0m\u001b[0;34m.\u001b[0m\u001b[0mfind\u001b[0m\u001b[0;34m(\u001b[0m\u001b[0mmoduleOrReq\u001b[0m\u001b[0;34m)\u001b[0m \u001b[0;32mor\u001b[0m \u001b[0mrequire\u001b[0m\u001b[0;34m(\u001b[0m\u001b[0mstr\u001b[0m\u001b[0;34m(\u001b[0m\u001b[0mmoduleOrReq\u001b[0m\u001b[0;34m)\u001b[0m\u001b[0;34m)\u001b[0m\u001b[0;34m[\u001b[0m\u001b[0;36m0\u001b[0m\u001b[0;34m]\u001b[0m\u001b[0;34m\u001b[0m\u001b[0;34m\u001b[0m\u001b[0m\n\u001b[0m\u001b[1;32m    342\u001b[0m     \u001b[0;32mtry\u001b[0m\u001b[0;34m:\u001b[0m\u001b[0;34m\u001b[0m\u001b[0;34m\u001b[0m\u001b[0m\n\u001b[1;32m    343\u001b[0m         \u001b[0mmodule\u001b[0m \u001b[0;34m=\u001b[0m \u001b[0msys\u001b[0m\u001b[0;34m.\u001b[0m\u001b[0mmodules\u001b[0m\u001b[0;34m[\u001b[0m\u001b[0mmoduleOrReq\u001b[0m\u001b[0;34m]\u001b[0m\u001b[0;34m\u001b[0m\u001b[0;34m\u001b[0m\u001b[0m\n",
            "\u001b[0;32m/usr/local/lib/python3.6/dist-packages/pkg_resources/__init__.py\u001b[0m in \u001b[0;36mrequire\u001b[0;34m(self, *requirements)\u001b[0m\n\u001b[1;32m    882\u001b[0m         \u001b[0mincluded\u001b[0m\u001b[0;34m,\u001b[0m \u001b[0meven\u001b[0m \u001b[0;32mif\u001b[0m \u001b[0mthey\u001b[0m \u001b[0mwere\u001b[0m \u001b[0malready\u001b[0m \u001b[0mactivated\u001b[0m \u001b[0;32min\u001b[0m \u001b[0mthis\u001b[0m \u001b[0mworking\u001b[0m \u001b[0mset\u001b[0m\u001b[0;34m.\u001b[0m\u001b[0;34m\u001b[0m\u001b[0;34m\u001b[0m\u001b[0m\n\u001b[1;32m    883\u001b[0m         \"\"\"\n\u001b[0;32m--> 884\u001b[0;31m         \u001b[0mneeded\u001b[0m \u001b[0;34m=\u001b[0m \u001b[0mself\u001b[0m\u001b[0;34m.\u001b[0m\u001b[0mresolve\u001b[0m\u001b[0;34m(\u001b[0m\u001b[0mparse_requirements\u001b[0m\u001b[0;34m(\u001b[0m\u001b[0mrequirements\u001b[0m\u001b[0;34m)\u001b[0m\u001b[0;34m)\u001b[0m\u001b[0;34m\u001b[0m\u001b[0;34m\u001b[0m\u001b[0m\n\u001b[0m\u001b[1;32m    885\u001b[0m \u001b[0;34m\u001b[0m\u001b[0m\n\u001b[1;32m    886\u001b[0m         \u001b[0;32mfor\u001b[0m \u001b[0mdist\u001b[0m \u001b[0;32min\u001b[0m \u001b[0mneeded\u001b[0m\u001b[0;34m:\u001b[0m\u001b[0;34m\u001b[0m\u001b[0;34m\u001b[0m\u001b[0m\n",
            "\u001b[0;32m/usr/local/lib/python3.6/dist-packages/pkg_resources/__init__.py\u001b[0m in \u001b[0;36mresolve\u001b[0;34m(self, requirements, env, installer, replace_conflicting, extras)\u001b[0m\n\u001b[1;32m    773\u001b[0m                 \u001b[0;31m# Oops, the \"best\" so far conflicts with a dependency\u001b[0m\u001b[0;34m\u001b[0m\u001b[0;34m\u001b[0m\u001b[0;34m\u001b[0m\u001b[0m\n\u001b[1;32m    774\u001b[0m                 \u001b[0mdependent_req\u001b[0m \u001b[0;34m=\u001b[0m \u001b[0mrequired_by\u001b[0m\u001b[0;34m[\u001b[0m\u001b[0mreq\u001b[0m\u001b[0;34m]\u001b[0m\u001b[0;34m\u001b[0m\u001b[0;34m\u001b[0m\u001b[0m\n\u001b[0;32m--> 775\u001b[0;31m                 \u001b[0;32mraise\u001b[0m \u001b[0mVersionConflict\u001b[0m\u001b[0;34m(\u001b[0m\u001b[0mdist\u001b[0m\u001b[0;34m,\u001b[0m \u001b[0mreq\u001b[0m\u001b[0;34m)\u001b[0m\u001b[0;34m.\u001b[0m\u001b[0mwith_context\u001b[0m\u001b[0;34m(\u001b[0m\u001b[0mdependent_req\u001b[0m\u001b[0;34m)\u001b[0m\u001b[0;34m\u001b[0m\u001b[0;34m\u001b[0m\u001b[0m\n\u001b[0m\u001b[1;32m    776\u001b[0m \u001b[0;34m\u001b[0m\u001b[0m\n\u001b[1;32m    777\u001b[0m             \u001b[0;31m# push the new requirements onto the stack\u001b[0m\u001b[0;34m\u001b[0m\u001b[0;34m\u001b[0m\u001b[0;34m\u001b[0m\u001b[0m\n",
            "\u001b[0;31mContextualVersionConflict\u001b[0m: (ipykernel 4.10.1 (/usr/local/lib/python3.6/dist-packages), Requirement.parse('ipykernel>=5.1.2; python_version >= \"3.4\"'), {'pydeck'})"
          ]
        }
      ]
    },
    {
      "cell_type": "code",
      "metadata": {
        "id": "L6eUQkYcPv-Z"
      },
      "source": [
        ""
      ],
      "execution_count": 178,
      "outputs": []
    },
    {
      "cell_type": "markdown",
      "metadata": {
        "id": "5niBQq01N8OF"
      },
      "source": [
        "## Create A Streamlit application\n",
        "\n"
      ]
    },
    {
      "cell_type": "code",
      "metadata": {
        "id": "67N2x5EhxFKk"
      },
      "source": [
        "#streamlit run foo.py"
      ],
      "execution_count": 179,
      "outputs": []
    },
    {
      "cell_type": "code",
      "metadata": {
        "id": "lbPQXINk8oHW",
        "outputId": "f293b8d6-809c-4e13-940c-01adf292e4c0",
        "colab": {
          "base_uri": "https://localhost:8080/"
        }
      },
      "source": [
        "!ls -l"
      ],
      "execution_count": 180,
      "outputs": [
        {
          "output_type": "stream",
          "text": [
            "total 1243824\n",
            "-rw-r--r-- 1 root root  104114760 Oct 30 00:46 cloud_spend-1.pkl\n",
            "-rw-r--r-- 1 root root       4338 Oct 30 00:21 ConverseQuery.py\n",
            "-rw-r--r-- 1 root root       2557 Oct 30 00:48 error\n",
            "-rwxr-xr-x 1 root root   26683198 Oct  8  2019 ngrok\n",
            "-rw-r--r-- 1 root root   13773305 Oct 29 18:36 ngrok-stable-linux-amd64.zip\n",
            "-rw-r--r-- 1 root root   13773305 Oct 29 19:17 ngrok-stable-linux-amd64.zip.1\n",
            "drwxr-xr-x 3 root root       4096 Oct 30 00:26 results\n",
            "drwxr-xr-x 4 root root       4096 Oct 29 16:23 sqa\n",
            "drwxr-xr-x 5 root root       4096 Oct 30 00:25 tapas\n",
            "drwxr-x--- 2 root root       4096 Apr 29  2020 tapas_sqa_base\n",
            "-rw-r--r-- 1 root root 1115287043 Oct 30 00:26 tapas_sqa_base.zip\n"
          ],
          "name": "stdout"
        }
      ]
    },
    {
      "cell_type": "code",
      "metadata": {
        "id": "jS_Zb4M-fDJy"
      },
      "source": [
        ""
      ],
      "execution_count": 180,
      "outputs": []
    },
    {
      "cell_type": "code",
      "metadata": {
        "id": "kzW_v62wfKW8",
        "outputId": "f9a0c863-16db-4818-c071-4d74ef3cf83b",
        "colab": {
          "base_uri": "https://localhost:8080/"
        }
      },
      "source": [
        "!ls -l  content"
      ],
      "execution_count": 181,
      "outputs": [
        {
          "output_type": "stream",
          "text": [
            "ls: cannot access 'content': No such file or directory\n"
          ],
          "name": "stdout"
        }
      ]
    },
    {
      "cell_type": "code",
      "metadata": {
        "id": "Ma2gMA-RxyCw"
      },
      "source": [
        ""
      ],
      "execution_count": 181,
      "outputs": []
    },
    {
      "cell_type": "code",
      "metadata": {
        "id": "857i2G9fjyt9",
        "outputId": "6900a9fe-1d2d-4011-e5b0-493d400c1f24",
        "colab": {
          "base_uri": "https://localhost:8080/"
        }
      },
      "source": [
        "%%writefile ConverseQuery.py\n",
        "import streamlit as st\n",
        "PAGE_CONFIG = {\"page_title\":\"StColab.io\",\"page_icon\":\":smiley:\",\"layout\":\"centered\"}\n",
        "st.set_page_config(**PAGE_CONFIG)\n",
        "\n",
        "#---------------------------------------------------------\n",
        "\n",
        "#---------------------------------------------------------\n",
        "def main():\n",
        "  \n",
        "  st.title(\"Conversational Query - ML App\")\n",
        "  st.header(\"   Google - BERT Based\")\n",
        "  st. write(\" The answers are :\")\n",
        "\n",
        "  menu = [\"Home\",\"About\"]\n",
        "  choice = st.sidebar.selectbox('Menu',menu)\n",
        "  if choice == 'Home':\n",
        "    st.sidebar.subheader(\" User Input\")\n",
        "    st.sidebar.subheader(\"Model: DATACENTER_SPEND_ANALYSIS\")\n",
        "    st.sidebar.write(\"-------------------------------------\")\n",
        "    user_input1 = st.sidebar.text_input(\"What is the maximum POLeadTime?\")\n",
        "    user_input2 = st.sidebar.text_input(\"Show me all Vendor Names?\")\n",
        "    user_input3 = st.sidebar.text_input(\"What is total PR amount for CAPEX? \")\n",
        "    ExecuteQury = st.sidebar.button(\"Execute Query\")\n",
        "    #queryResults = predict(list_of_list,[\"What is the maximum POLeadTime?\",\"Show me all Vendor Names?\"])\n",
        "    st.subheader(\"Results from query :\")\n",
        "    #st.subheader(queryResults)\n",
        "\n",
        "    #if ExecuteQury:\n",
        "      #queryResults1 = predict(list_of_list,\n",
        "      #                       [\"What is the maximum POLeadTime?\",\n",
        "      #                        \"Show me all Vendor Names?\"])\n",
        "\t\t\t#st.write(predict(list_of_list,\n",
        "\t\t\t#        [\"What is the maximum POLeadTime?\",\n",
        "\t\t\t#\t\t\t\t     \"Show me all Vendor Names?\"]))\n",
        "\t    #st.subheader(queryResults1)\n",
        "\n",
        "    #st.sidebar.subheader(\"SAP_ECC_NOW.PURCHASE_TO_PAY.DataCenter.ReportingViews/DATACENTER_SPEND_ANALYSIS:\")\n",
        "\n",
        "\n",
        "if __name__ == '__main__':\n",
        "\tmain()"
      ],
      "execution_count": 205,
      "outputs": [
        {
          "output_type": "stream",
          "text": [
            "Overwriting ConverseQuery.py\n"
          ],
          "name": "stdout"
        }
      ]
    },
    {
      "cell_type": "code",
      "metadata": {
        "id": "kvU5IHtfURXB",
        "outputId": "7058ef46-ee40-4711-df69-95a462e09544",
        "colab": {
          "base_uri": "https://localhost:8080/",
          "height": 70
        }
      },
      "source": [
        "'''\n",
        "result = predict(list_of_list, [\"What is the maximum POLeadTime?\",\n",
        "                                \"Show me all Vendor Names?\",\n",
        "                                \"What is total PR amount for CAPEX?\",\n",
        "                                \"Show PR number with Closed Complete status?\"])\n",
        "\n",
        "   \n",
        "     # ,\n",
        "      #\"Show me  PR Status that are not Closed Complete?\",\n",
        "      #\"What is PR_AmountInUSD ExpenseType ?\"])\n",
        "'''"
      ],
      "execution_count": 183,
      "outputs": [
        {
          "output_type": "execute_result",
          "data": {
            "application/vnd.google.colaboratory.intrinsic+json": {
              "type": "string"
            },
            "text/plain": [
              "'\\nresult = predict(list_of_list, [\"What is the maximum POLeadTime?\",\\n                                \"Show me all Vendor Names?\",\\n                                \"What is total PR amount for CAPEX?\",\\n                                \"Show PR number with Closed Complete status?\"])\\n\\n   \\n     # ,\\n      #\"Show me  PR Status that are not Closed Complete?\",\\n      #\"What is PR_AmountInUSD ExpenseType ?\"])\\n'"
            ]
          },
          "metadata": {
            "tags": []
          },
          "execution_count": 183
        }
      ]
    },
    {
      "cell_type": "code",
      "metadata": {
        "id": "AwNvnJ8rUDpV",
        "outputId": "cb2d9df1-9ebe-436d-fd4c-22793659647c",
        "colab": {
          "base_uri": "https://localhost:8080/",
          "height": 1000
        }
      },
      "source": [
        "\n",
        "result = predict(list_of_list, [\"What is the maximum POLeadTime?\",\n",
        "                                \"Show me all Vendor Names?\",\n",
        "                                \"What is total PR amount for CAPEX?\",\n",
        "                                \"Show PR number with Closed Complete status?\"])\n",
        "\n",
        "   \n",
        "     # ,\n",
        "      #\"Show me  PR Status that are not Closed Complete?\",\n",
        "      #\"What is PR_AmountInUSD ExpenseType ?\"])\n"
      ],
      "execution_count": 199,
      "outputs": [
        {
          "output_type": "stream",
          "text": [
            "is_built_with_cuda: True\n",
            "is_gpu_available: False\n",
            "GPUs: []\n",
            "Training or predicting ...\n",
            "Evaluation finished after training step 0.\n"
          ],
          "name": "stdout"
        },
        {
          "output_type": "display_data",
          "data": {
            "text/html": [
              "<table border=\"1\" class=\"dataframe\">\n",
              "  <thead>\n",
              "    <tr style=\"text-align: right;\">\n",
              "      <th style=\"min-width: {};\">PR_Number</th>\n",
              "      <th style=\"min-width: {};\">PrCreateDate</th>\n",
              "      <th style=\"min-width: {};\">PRStateDescription</th>\n",
              "      <th style=\"min-width: {};\">VendorName</th>\n",
              "      <th style=\"min-width: {};\">ExpType</th>\n",
              "      <th style=\"min-width: {};\">RecevingSlipStatus</th>\n",
              "      <th style=\"min-width: {};\">RS_ReceivingDate</th>\n",
              "      <th style=\"min-width: {};\">POLeadTime</th>\n",
              "      <th style=\"min-width: {};\">Late</th>\n",
              "      <th style=\"min-width: {};\">PR_AmountInUSD</th>\n",
              "    </tr>\n",
              "  </thead>\n",
              "  <tbody>\n",
              "    <tr>\n",
              "      <td>PR0095868</td>\n",
              "      <td>2020-01-13</td>\n",
              "      <td>Closed Complete</td>\n",
              "      <td>SHI International Corp.</td>\n",
              "      <td>CAPEX</td>\n",
              "      <td>Complete</td>\n",
              "      <td>2020-07-17</td>\n",
              "      <td>186</td>\n",
              "      <td>-88</td>\n",
              "      <td>1431151.85</td>\n",
              "    </tr>\n",
              "    <tr>\n",
              "      <td>PR0102699</td>\n",
              "      <td>2020-05-18</td>\n",
              "      <td>Closed Complete</td>\n",
              "      <td>Redapt Holdings, Inc. Redapt, Inc.</td>\n",
              "      <td>CAPEX</td>\n",
              "      <td>Complete</td>\n",
              "      <td>2020-07-17</td>\n",
              "      <td>60</td>\n",
              "      <td>-7</td>\n",
              "      <td>16210.52</td>\n",
              "    </tr>\n",
              "    <tr>\n",
              "      <td>PR0102699</td>\n",
              "      <td>2020-05-18</td>\n",
              "      <td>Closed Complete</td>\n",
              "      <td>Redapt Holdings, Inc. Redapt, Inc.</td>\n",
              "      <td>OPEX</td>\n",
              "      <td>Complete</td>\n",
              "      <td>2020-07-17</td>\n",
              "      <td>60</td>\n",
              "      <td>-7</td>\n",
              "      <td>16210.52</td>\n",
              "    </tr>\n",
              "    <tr>\n",
              "      <td>PR0102900</td>\n",
              "      <td>2020-05-21</td>\n",
              "      <td>Closed Complete</td>\n",
              "      <td>Redapt Holdings, Inc. Redapt, Inc.</td>\n",
              "      <td>CAPEX</td>\n",
              "      <td>Complete</td>\n",
              "      <td>2020-07-17</td>\n",
              "      <td>57</td>\n",
              "      <td>-17</td>\n",
              "      <td>89326.28</td>\n",
              "    </tr>\n",
              "    <tr>\n",
              "      <td>PR0102900</td>\n",
              "      <td>2020-05-21</td>\n",
              "      <td>Closed Complete</td>\n",
              "      <td>Redapt Holdings, Inc. Redapt, Inc.</td>\n",
              "      <td>OPEX</td>\n",
              "      <td>Complete</td>\n",
              "      <td>2020-07-17</td>\n",
              "      <td>57</td>\n",
              "      <td>-17</td>\n",
              "      <td>89326.28</td>\n",
              "    </tr>\n",
              "    <tr>\n",
              "      <td>PR0102268</td>\n",
              "      <td>2020-05-06</td>\n",
              "      <td>Closed Complete</td>\n",
              "      <td>Redapt Holdings, Inc. Redapt, Inc.</td>\n",
              "      <td>OPEX</td>\n",
              "      <td>nan</td>\n",
              "      <td>nan</td>\n",
              "      <td>nan</td>\n",
              "      <td>nan</td>\n",
              "      <td>824.42</td>\n",
              "    </tr>\n",
              "    <tr>\n",
              "      <td>PR0104990</td>\n",
              "      <td>2020-07-08</td>\n",
              "      <td>Closed Complete</td>\n",
              "      <td>SHI GLOBAL IT SOLUTIONS IRELAND LIMITED</td>\n",
              "      <td>OPEX</td>\n",
              "      <td>nan</td>\n",
              "      <td>nan</td>\n",
              "      <td>nan</td>\n",
              "      <td>nan</td>\n",
              "      <td>16544.74</td>\n",
              "    </tr>\n",
              "    <tr>\n",
              "      <td>PR0104990</td>\n",
              "      <td>2020-07-08</td>\n",
              "      <td>Closed Complete</td>\n",
              "      <td>SHI GLOBAL IT SOLUTIONS IRELAND LIMITED</td>\n",
              "      <td>OPEX</td>\n",
              "      <td>nan</td>\n",
              "      <td>nan</td>\n",
              "      <td>nan</td>\n",
              "      <td>nan</td>\n",
              "      <td>16544.74</td>\n",
              "    </tr>\n",
              "    <tr>\n",
              "      <td>PR0104990</td>\n",
              "      <td>2020-07-08</td>\n",
              "      <td>Closed Complete</td>\n",
              "      <td>SHI GLOBAL IT SOLUTIONS IRELAND LIMITED</td>\n",
              "      <td>OPEX</td>\n",
              "      <td>nan</td>\n",
              "      <td>nan</td>\n",
              "      <td>nan</td>\n",
              "      <td>nan</td>\n",
              "      <td>16544.74</td>\n",
              "    </tr>\n",
              "    <tr>\n",
              "      <td>PR0104990</td>\n",
              "      <td>2020-07-08</td>\n",
              "      <td>Closed Complete</td>\n",
              "      <td>SHI GLOBAL IT SOLUTIONS IRELAND LIMITED</td>\n",
              "      <td>OPEX</td>\n",
              "      <td>nan</td>\n",
              "      <td>nan</td>\n",
              "      <td>nan</td>\n",
              "      <td>nan</td>\n",
              "      <td>16544.74</td>\n",
              "    </tr>\n",
              "    <tr>\n",
              "      <td>PR0104990</td>\n",
              "      <td>2020-07-08</td>\n",
              "      <td>Closed Complete</td>\n",
              "      <td>SHI GLOBAL IT SOLUTIONS IRELAND LIMITED</td>\n",
              "      <td>OPEX</td>\n",
              "      <td>nan</td>\n",
              "      <td>nan</td>\n",
              "      <td>nan</td>\n",
              "      <td>nan</td>\n",
              "      <td>16544.74</td>\n",
              "    </tr>\n",
              "    <tr>\n",
              "      <td>PR0104990</td>\n",
              "      <td>2020-07-08</td>\n",
              "      <td>Closed Complete</td>\n",
              "      <td>SHI GLOBAL IT SOLUTIONS IRELAND LIMITED</td>\n",
              "      <td>OPEX</td>\n",
              "      <td>nan</td>\n",
              "      <td>nan</td>\n",
              "      <td>nan</td>\n",
              "      <td>nan</td>\n",
              "      <td>16544.74</td>\n",
              "    </tr>\n",
              "    <tr>\n",
              "      <td>PR0104990</td>\n",
              "      <td>2020-07-08</td>\n",
              "      <td>Closed Complete</td>\n",
              "      <td>SHI GLOBAL IT SOLUTIONS IRELAND LIMITED</td>\n",
              "      <td>OPEX</td>\n",
              "      <td>nan</td>\n",
              "      <td>nan</td>\n",
              "      <td>nan</td>\n",
              "      <td>nan</td>\n",
              "      <td>16544.74</td>\n",
              "    </tr>\n",
              "    <tr>\n",
              "      <td>PR0104990</td>\n",
              "      <td>2020-07-08</td>\n",
              "      <td>Closed Complete</td>\n",
              "      <td>SHI GLOBAL IT SOLUTIONS IRELAND LIMITED</td>\n",
              "      <td>OPEX</td>\n",
              "      <td>nan</td>\n",
              "      <td>nan</td>\n",
              "      <td>nan</td>\n",
              "      <td>nan</td>\n",
              "      <td>16544.74</td>\n",
              "    </tr>\n",
              "    <tr>\n",
              "      <td>PR0104990</td>\n",
              "      <td>2020-07-08</td>\n",
              "      <td>Closed Complete</td>\n",
              "      <td>SHI GLOBAL IT SOLUTIONS IRELAND LIMITED</td>\n",
              "      <td>OPEX</td>\n",
              "      <td>nan</td>\n",
              "      <td>nan</td>\n",
              "      <td>nan</td>\n",
              "      <td>nan</td>\n",
              "      <td>16544.74</td>\n",
              "    </tr>\n",
              "    <tr>\n",
              "      <td>PR0104992</td>\n",
              "      <td>2020-07-08</td>\n",
              "      <td>Closed Complete</td>\n",
              "      <td>SHI GLOBAL IT SOLUTIONS IRELAND LIMITED</td>\n",
              "      <td>OPEX</td>\n",
              "      <td>nan</td>\n",
              "      <td>nan</td>\n",
              "      <td>nan</td>\n",
              "      <td>nan</td>\n",
              "      <td>16546.44</td>\n",
              "    </tr>\n",
              "    <tr>\n",
              "      <td>PR0104992</td>\n",
              "      <td>2020-07-08</td>\n",
              "      <td>Closed Complete</td>\n",
              "      <td>SHI GLOBAL IT SOLUTIONS IRELAND LIMITED</td>\n",
              "      <td>OPEX</td>\n",
              "      <td>nan</td>\n",
              "      <td>nan</td>\n",
              "      <td>nan</td>\n",
              "      <td>nan</td>\n",
              "      <td>16546.44</td>\n",
              "    </tr>\n",
              "    <tr>\n",
              "      <td>PR0104992</td>\n",
              "      <td>2020-07-08</td>\n",
              "      <td>Closed Complete</td>\n",
              "      <td>SHI GLOBAL IT SOLUTIONS IRELAND LIMITED</td>\n",
              "      <td>OPEX</td>\n",
              "      <td>nan</td>\n",
              "      <td>nan</td>\n",
              "      <td>nan</td>\n",
              "      <td>nan</td>\n",
              "      <td>16546.44</td>\n",
              "    </tr>\n",
              "    <tr>\n",
              "      <td>PR0104992</td>\n",
              "      <td>2020-07-08</td>\n",
              "      <td>Closed Complete</td>\n",
              "      <td>SHI GLOBAL IT SOLUTIONS IRELAND LIMITED</td>\n",
              "      <td>OPEX</td>\n",
              "      <td>nan</td>\n",
              "      <td>nan</td>\n",
              "      <td>nan</td>\n",
              "      <td>nan</td>\n",
              "      <td>16546.44</td>\n",
              "    </tr>\n",
              "    <tr>\n",
              "      <td>PR0104992</td>\n",
              "      <td>2020-07-08</td>\n",
              "      <td>Closed Complete</td>\n",
              "      <td>SHI GLOBAL IT SOLUTIONS IRELAND LIMITED</td>\n",
              "      <td>OPEX</td>\n",
              "      <td>nan</td>\n",
              "      <td>nan</td>\n",
              "      <td>nan</td>\n",
              "      <td>nan</td>\n",
              "      <td>16546.44</td>\n",
              "    </tr>\n",
              "  </tbody>\n",
              "</table>"
            ],
            "text/plain": [
              "<IPython.core.display.HTML object>"
            ]
          },
          "metadata": {
            "tags": []
          }
        },
        {
          "output_type": "stream",
          "text": [
            "\n",
            "> What is the maximum POLeadTime?\n",
            "186\n",
            "> Show me all Vendor Names?\n",
            "SHI GLOBAL IT SOLUTIONS IRELAND LIMITED, SHI GLOBAL IT SOLUTIONS IRELAND LIMITED, Redapt Holdings, Inc. Redapt, Inc., SHI GLOBAL IT SOLUTIONS IRELAND LIMITED, Redapt Holdings, Inc. Redapt, Inc., SHI GLOBAL IT SOLUTIONS IRELAND LIMITED, SHI GLOBAL IT SOLUTIONS IRELAND LIMITED, SHI GLOBAL IT SOLUTIONS IRELAND LIMITED, SHI GLOBAL IT SOLUTIONS IRELAND LIMITED, SHI GLOBAL IT SOLUTIONS IRELAND LIMITED, SHI GLOBAL IT SOLUTIONS IRELAND LIMITED, SHI GLOBAL IT SOLUTIONS IRELAND LIMITED, Redapt Holdings, Inc. Redapt, Inc., SHI GLOBAL IT SOLUTIONS IRELAND LIMITED, Redapt Holdings, Inc. Redapt, Inc., SHI GLOBAL IT SOLUTIONS IRELAND LIMITED, SHI International Corp., SHI GLOBAL IT SOLUTIONS IRELAND LIMITED, SHI GLOBAL IT SOLUTIONS IRELAND LIMITED, Redapt Holdings, Inc. Redapt, Inc.\n",
            "> What is total PR amount for CAPEX?\n",
            "SHI International Corp., Redapt Holdings, Inc. Redapt, Inc., Redapt Holdings, Inc. Redapt, Inc.\n",
            "> Show PR number with Closed Complete status?\n",
            "\n"
          ],
          "name": "stdout"
        }
      ]
    },
    {
      "cell_type": "markdown",
      "metadata": {
        "id": "BU5JfQFUnPRr"
      },
      "source": [
        "### Check File created"
      ]
    },
    {
      "cell_type": "code",
      "metadata": {
        "id": "cRW-gXKAnNcm",
        "outputId": "be1e22d4-b549-4a55-e8b8-77f396198279",
        "colab": {
          "base_uri": "https://localhost:8080/"
        }
      },
      "source": [
        "!ls -l"
      ],
      "execution_count": 72,
      "outputs": [
        {
          "output_type": "stream",
          "text": [
            "total 8\n",
            "-rw-r--r-- 1 root root 1496 Oct 29 18:21 ConverseQuery.py\n",
            "drwxr-xr-x 4 root root 4096 Oct 29 16:23 sqa\n"
          ],
          "name": "stdout"
        }
      ]
    },
    {
      "cell_type": "markdown",
      "metadata": {
        "id": "BwY2dvN0OY0g"
      },
      "source": [
        "### Install ngrok"
      ]
    },
    {
      "cell_type": "code",
      "metadata": {
        "id": "UmJuHLQtOJes",
        "outputId": "dc0ce592-a6fc-4a3b-967c-fc3175e60e57",
        "colab": {
          "base_uri": "https://localhost:8080/"
        }
      },
      "source": [
        "!wget https://bin.equinox.io/c/4VmDzA7iaHb/ngrok-stable-linux-amd64.zip\n",
        "!unzip -qq ngrok-stable-linux-amd64.zip"
      ],
      "execution_count": 185,
      "outputs": [
        {
          "output_type": "stream",
          "text": [
            "--2020-10-30 00:54:33--  https://bin.equinox.io/c/4VmDzA7iaHb/ngrok-stable-linux-amd64.zip\n",
            "Resolving bin.equinox.io (bin.equinox.io)... 52.1.26.21, 52.0.235.222, 54.236.74.205, ...\n",
            "Connecting to bin.equinox.io (bin.equinox.io)|52.1.26.21|:443... connected.\n",
            "HTTP request sent, awaiting response... 200 OK\n",
            "Length: 13773305 (13M) [application/octet-stream]\n",
            "Saving to: ‘ngrok-stable-linux-amd64.zip.2’\n",
            "\n",
            "ngrok-stable-linux- 100%[===================>]  13.13M  5.95MB/s    in 2.2s    \n",
            "\n",
            "2020-10-30 00:54:36 (5.95 MB/s) - ‘ngrok-stable-linux-amd64.zip.2’ saved [13773305/13773305]\n",
            "\n",
            "replace ngrok? [y]es, [n]o, [A]ll, [N]one, [r]ename: n\n"
          ],
          "name": "stdout"
        }
      ]
    },
    {
      "cell_type": "code",
      "metadata": {
        "id": "Ds6HbrOqSzJ8"
      },
      "source": [
        "!streamlit run ConverseQuery.py &>/dev/null&"
      ],
      "execution_count": 186,
      "outputs": []
    },
    {
      "cell_type": "code",
      "metadata": {
        "id": "KDK4W6Q3QHu-",
        "outputId": "fe95499a-c2ab-4c71-a243-21c500c555cc",
        "colab": {
          "base_uri": "https://localhost:8080/"
        }
      },
      "source": [
        "get_ipython().system_raw('./ngrok http 8501 &')\n",
        "! curl -s http://localhost:4040/api/tunnels | python3 -c \\\n",
        "\"import sys, json; print(json.load(sys.stdin)['tunnels'][0]['public_url'])\""
      ],
      "execution_count": 187,
      "outputs": [
        {
          "output_type": "stream",
          "text": [
            "https://84041b267d22.ngrok.io\n"
          ],
          "name": "stdout"
        }
      ]
    },
    {
      "cell_type": "code",
      "metadata": {
        "id": "iXfY7A2BRU-W"
      },
      "source": [
        "\n",
        "#!streamlit run ConverseQuery.py"
      ],
      "execution_count": 98,
      "outputs": []
    },
    {
      "cell_type": "code",
      "metadata": {
        "id": "b0G5q-U80ey1"
      },
      "source": [
        "#!wget https://bin.equinox.io/c/4VmDzA7iaHb/ngrok-stable-linux-amd64.zip"
      ],
      "execution_count": null,
      "outputs": []
    },
    {
      "cell_type": "code",
      "metadata": {
        "id": "oNysaB8MPrWF"
      },
      "source": [
        "#!unzip ngrok-stable-linux-amd64.zip"
      ],
      "execution_count": null,
      "outputs": []
    },
    {
      "cell_type": "code",
      "metadata": {
        "id": "1hmFrAdfutuI",
        "outputId": "2b1c56f1-1e13-4902-9c22-35d37669bea5",
        "colab": {
          "base_uri": "https://localhost:8080/",
          "height": 211
        }
      },
      "source": [
        "#! pip install pyngrok"
      ],
      "execution_count": null,
      "outputs": [
        {
          "output_type": "stream",
          "text": [
            "Collecting pyngrok\n",
            "  Downloading https://files.pythonhosted.org/packages/ea/63/e086f165125e9bf2e71c0db2955911baaaa0af8947ab5c7b3771bdf4d4d5/pyngrok-5.0.0.tar.gz\n",
            "Requirement already satisfied: PyYAML in /usr/local/lib/python3.6/dist-packages (from pyngrok) (3.13)\n",
            "Building wheels for collected packages: pyngrok\n",
            "  Building wheel for pyngrok (setup.py) ... \u001b[?25l\u001b[?25hdone\n",
            "  Created wheel for pyngrok: filename=pyngrok-5.0.0-cp36-none-any.whl size=18780 sha256=7cd1d4a22cc9dffce047e5df1ec584242da8dbfbd06513a83129c5ad1fbf850a\n",
            "  Stored in directory: /root/.cache/pip/wheels/95/df/23/af8dde08c3fcdc7b966adcacef48ab29aa3b0b1860df5d2b79\n",
            "Successfully built pyngrok\n",
            "Installing collected packages: pyngrok\n",
            "Successfully installed pyngrok-5.0.0\n"
          ],
          "name": "stdout"
        }
      ]
    },
    {
      "cell_type": "code",
      "metadata": {
        "id": "t44RE7JVptZo",
        "outputId": "8ba92828-1a4f-4c4e-d00b-15bac8064566",
        "colab": {
          "base_uri": "https://localhost:8080/"
        }
      },
      "source": [
        "!ngrok"
      ],
      "execution_count": 29,
      "outputs": [
        {
          "output_type": "stream",
          "text": [
            "/bin/bash: ngrok: command not found\n"
          ],
          "name": "stdout"
        }
      ]
    },
    {
      "cell_type": "code",
      "metadata": {
        "id": "_f2YJH8knanU",
        "outputId": "ffc6095d-affb-4f48-a7df-b2f6be53b0c3",
        "colab": {
          "base_uri": "https://localhost:8080/"
        }
      },
      "source": [
        "!pgrep ngrok"
      ],
      "execution_count": 106,
      "outputs": [
        {
          "output_type": "stream",
          "text": [
            "1997\n",
            "2031\n"
          ],
          "name": "stdout"
        }
      ]
    },
    {
      "cell_type": "code",
      "metadata": {
        "id": "IHGoqC3qoWlM"
      },
      "source": [
        "!kill 2031"
      ],
      "execution_count": 108,
      "outputs": []
    },
    {
      "cell_type": "code",
      "metadata": {
        "id": "DmWgJlWHnSes"
      },
      "source": [
        "!pgrep streamlit"
      ],
      "execution_count": 13,
      "outputs": []
    },
    {
      "cell_type": "code",
      "metadata": {
        "id": "KmBbbqVnOzrk",
        "outputId": "200e3422-e1bf-4f5f-929e-e72b4c9f9cb8",
        "colab": {
          "base_uri": "https://localhost:8080/",
          "height": 35
        }
      },
      "source": [
        "!ngrok authtoken 1jLjJnrh3EQPYjoUdjH9IBzWa66_5GC8hxEPV3r9HKjZvHEQN"
      ],
      "execution_count": null,
      "outputs": [
        {
          "output_type": "stream",
          "text": [
            "/bin/bash: ngrok: command not found\n"
          ],
          "name": "stdout"
        }
      ]
    },
    {
      "cell_type": "code",
      "metadata": {
        "id": "yAjc54XZvCCb"
      },
      "source": [
        "from pyngrok import ngrok"
      ],
      "execution_count": null,
      "outputs": []
    },
    {
      "cell_type": "markdown",
      "metadata": {
        "id": "kSAaSJg4voZJ"
      },
      "source": [
        "### Run app in background"
      ]
    },
    {
      "cell_type": "code",
      "metadata": {
        "id": "yW4Fh2Bovnqx",
        "outputId": "a416480b-e201-48b5-b30e-f90647c8a56a",
        "colab": {
          "base_uri": "https://localhost:8080/"
        }
      },
      "source": [
        "!ls -l\n"
      ],
      "execution_count": 118,
      "outputs": [
        {
          "output_type": "stream",
          "text": [
            "total 52972\n",
            "-rw-r--r-- 1 root root     1537 Oct 29 21:24 ConverseQuery.py\n",
            "-rwxr-xr-x 1 root root 26683198 Oct  8  2019 ngrok\n",
            "-rw-r--r-- 1 root root 13773305 Oct 29 18:36 ngrok-stable-linux-amd64.zip\n",
            "-rw-r--r-- 1 root root 13773305 Oct 29 19:17 ngrok-stable-linux-amd64.zip.1\n",
            "drwxr-xr-x 4 root root     4096 Oct 29 16:23 sqa\n"
          ],
          "name": "stdout"
        }
      ]
    },
    {
      "cell_type": "code",
      "metadata": {
        "id": "Mmyx36wfToUa",
        "outputId": "f1ffc937-6b3b-4607-8378-828519c84f00",
        "colab": {
          "base_uri": "https://localhost:8080/"
        }
      },
      "source": [
        "%cd content"
      ],
      "execution_count": 120,
      "outputs": [
        {
          "output_type": "stream",
          "text": [
            "[Errno 2] No such file or directory: 'content'\n",
            "/content/results\n"
          ],
          "name": "stdout"
        }
      ]
    },
    {
      "cell_type": "code",
      "metadata": {
        "id": "bagZkShMH_q2"
      },
      "source": [
        "!streamlit"
      ],
      "execution_count": null,
      "outputs": []
    },
    {
      "cell_type": "code",
      "metadata": {
        "id": "APrbsB89vjNV"
      },
      "source": [
        "!streamlit run ConverseQuery.py &>/dev/null&"
      ],
      "execution_count": null,
      "outputs": []
    },
    {
      "cell_type": "markdown",
      "metadata": {
        "id": "ugFXjERfv9uL"
      },
      "source": [
        "### check if streamlit is running\n"
      ]
    },
    {
      "cell_type": "code",
      "metadata": {
        "id": "vfFUS3NxwEuw"
      },
      "source": [
        "!pgrep streamlit\n"
      ],
      "execution_count": 17,
      "outputs": []
    },
    {
      "cell_type": "code",
      "metadata": {
        "id": "xm46WEz00rWc"
      },
      "source": [
        "# Setup a tunnel to the streamlit port 8501\n",
        "public_url = ngrok.connect(port='8501')\n"
      ],
      "execution_count": null,
      "outputs": []
    },
    {
      "cell_type": "code",
      "metadata": {
        "id": "Jt9aLrBS0-3V"
      },
      "source": [
        "public_url\n"
      ],
      "execution_count": null,
      "outputs": []
    },
    {
      "cell_type": "markdown",
      "metadata": {
        "id": "X_Ipg8vU1EbJ"
      },
      "source": [
        "### END\n"
      ]
    },
    {
      "cell_type": "code",
      "metadata": {
        "id": "rxGMdT4TQY8_"
      },
      "source": [
        "get_ipython().system_raw('./ngrok http 8501 &')"
      ],
      "execution_count": null,
      "outputs": []
    },
    {
      "cell_type": "code",
      "metadata": {
        "id": "V704pB1ZQm8Q"
      },
      "source": [
        "!curl -s http://localhost:4040/api/tunnels | python3 -c \\\n",
        "    'import sys, json; print(\"Execute the next cell and the go to the following URL: \" +json.load(sys.stdin)[\"tunnels\"][0][\"public_url\"])'"
      ],
      "execution_count": null,
      "outputs": []
    },
    {
      "cell_type": "code",
      "metadata": {
        "id": "M3ql_1bjQrpX"
      },
      "source": [
        ""
      ],
      "execution_count": null,
      "outputs": []
    },
    {
      "cell_type": "code",
      "metadata": {
        "id": "r9uUC8gZrqxQ"
      },
      "source": [
        "#!streamlit run ConverseQuery.py &>/dev/null&"
      ],
      "execution_count": null,
      "outputs": []
    },
    {
      "cell_type": "code",
      "metadata": {
        "id": "t20KKnRLQz7i"
      },
      "source": [
        "!streamlit run ConverseQuery.py"
      ],
      "execution_count": null,
      "outputs": []
    },
    {
      "cell_type": "markdown",
      "metadata": {
        "id": "eniJArNdQ9G_"
      },
      "source": [
        "# --- END--"
      ]
    },
    {
      "cell_type": "code",
      "metadata": {
        "id": "X0U9zbE8Q8EQ"
      },
      "source": [
        ""
      ],
      "execution_count": null,
      "outputs": []
    },
    {
      "cell_type": "code",
      "metadata": {
        "id": "UpqPfvP-sBud",
        "outputId": "8e325c03-7c23-4122-db5e-78b35cc8c9cf",
        "colab": {
          "base_uri": "https://localhost:8080/",
          "height": 211
        }
      },
      "source": [
        "!pip install pyngrok"
      ],
      "execution_count": null,
      "outputs": [
        {
          "output_type": "stream",
          "text": [
            "Collecting pyngrok\n",
            "  Downloading https://files.pythonhosted.org/packages/ea/63/e086f165125e9bf2e71c0db2955911baaaa0af8947ab5c7b3771bdf4d4d5/pyngrok-5.0.0.tar.gz\n",
            "Requirement already satisfied: PyYAML in /usr/local/lib/python3.6/dist-packages (from pyngrok) (3.13)\n",
            "Building wheels for collected packages: pyngrok\n",
            "  Building wheel for pyngrok (setup.py) ... \u001b[?25l\u001b[?25hdone\n",
            "  Created wheel for pyngrok: filename=pyngrok-5.0.0-cp36-none-any.whl size=18780 sha256=e5a8c60259a523774f2edeb60a5db85905fa5baf3105f98bdb3f88b3fc1aee0e\n",
            "  Stored in directory: /root/.cache/pip/wheels/95/df/23/af8dde08c3fcdc7b966adcacef48ab29aa3b0b1860df5d2b79\n",
            "Successfully built pyngrok\n",
            "Installing collected packages: pyngrok\n",
            "Successfully installed pyngrok-5.0.0\n"
          ],
          "name": "stdout"
        }
      ]
    },
    {
      "cell_type": "code",
      "metadata": {
        "id": "dgFOy46frwhs"
      },
      "source": [
        "from pyngrok import ngrok\n"
      ],
      "execution_count": null,
      "outputs": []
    },
    {
      "cell_type": "code",
      "metadata": {
        "id": "tUvSNec9sV-I"
      },
      "source": [
        "get_ipython().system_raw('./ngrok http 8501 &')"
      ],
      "execution_count": null,
      "outputs": []
    },
    {
      "cell_type": "code",
      "metadata": {
        "id": "_t8uN1vkr1Un",
        "outputId": "4966c5c5-0419-4372-8acd-fdd931a43fce",
        "colab": {
          "base_uri": "https://localhost:8080/",
          "height": 505
        }
      },
      "source": [
        "# Setup a tunnel to the streamlit port 8501\n",
        "public_url = ngrok.connect(port='8501')\n"
      ],
      "execution_count": null,
      "outputs": [
        {
          "output_type": "stream",
          "text": [
            "WARNING:pyngrok.process.ngrok:t=2020-10-27T06:14:26+0000 lvl=warn msg=\"failed to start tunnel\" pg=/api/tunnels id=d662110c1e10ac06 err=\"Your account may not run more than 2 tunnels over a single ngrok client session.\\nThe tunnels already running on this session are:\\n[http://366e6364ef36.ngrok.io https://366e6364ef36.ngrok.io]\\n\\r\\n\\r\\nERR_NGROK_324\\r\\n\"\n"
          ],
          "name": "stderr"
        },
        {
          "output_type": "error",
          "ename": "PyngrokNgrokHTTPError",
          "evalue": "ignored",
          "traceback": [
            "\u001b[0;31m---------------------------------------------------------------------------\u001b[0m",
            "\u001b[0;31mHTTPError\u001b[0m                                 Traceback (most recent call last)",
            "\u001b[0;32m/usr/local/lib/python3.6/dist-packages/pyngrok/ngrok.py\u001b[0m in \u001b[0;36mapi_request\u001b[0;34m(url, method, data, params, timeout)\u001b[0m\n\u001b[1;32m    433\u001b[0m     \u001b[0;32mtry\u001b[0m\u001b[0;34m:\u001b[0m\u001b[0;34m\u001b[0m\u001b[0;34m\u001b[0m\u001b[0m\n\u001b[0;32m--> 434\u001b[0;31m         \u001b[0mresponse\u001b[0m \u001b[0;34m=\u001b[0m \u001b[0murlopen\u001b[0m\u001b[0;34m(\u001b[0m\u001b[0mrequest\u001b[0m\u001b[0;34m,\u001b[0m \u001b[0mdata\u001b[0m\u001b[0;34m,\u001b[0m \u001b[0mtimeout\u001b[0m\u001b[0;34m)\u001b[0m\u001b[0;34m\u001b[0m\u001b[0;34m\u001b[0m\u001b[0m\n\u001b[0m\u001b[1;32m    435\u001b[0m         \u001b[0mresponse_data\u001b[0m \u001b[0;34m=\u001b[0m \u001b[0mresponse\u001b[0m\u001b[0;34m.\u001b[0m\u001b[0mread\u001b[0m\u001b[0;34m(\u001b[0m\u001b[0;34m)\u001b[0m\u001b[0;34m.\u001b[0m\u001b[0mdecode\u001b[0m\u001b[0;34m(\u001b[0m\u001b[0;34m\"utf-8\"\u001b[0m\u001b[0;34m)\u001b[0m\u001b[0;34m\u001b[0m\u001b[0;34m\u001b[0m\u001b[0m\n",
            "\u001b[0;32m/usr/lib/python3.6/urllib/request.py\u001b[0m in \u001b[0;36murlopen\u001b[0;34m(url, data, timeout, cafile, capath, cadefault, context)\u001b[0m\n\u001b[1;32m    222\u001b[0m         \u001b[0mopener\u001b[0m \u001b[0;34m=\u001b[0m \u001b[0m_opener\u001b[0m\u001b[0;34m\u001b[0m\u001b[0;34m\u001b[0m\u001b[0m\n\u001b[0;32m--> 223\u001b[0;31m     \u001b[0;32mreturn\u001b[0m \u001b[0mopener\u001b[0m\u001b[0;34m.\u001b[0m\u001b[0mopen\u001b[0m\u001b[0;34m(\u001b[0m\u001b[0murl\u001b[0m\u001b[0;34m,\u001b[0m \u001b[0mdata\u001b[0m\u001b[0;34m,\u001b[0m \u001b[0mtimeout\u001b[0m\u001b[0;34m)\u001b[0m\u001b[0;34m\u001b[0m\u001b[0;34m\u001b[0m\u001b[0m\n\u001b[0m\u001b[1;32m    224\u001b[0m \u001b[0;34m\u001b[0m\u001b[0m\n",
            "\u001b[0;32m/usr/lib/python3.6/urllib/request.py\u001b[0m in \u001b[0;36mopen\u001b[0;34m(self, fullurl, data, timeout)\u001b[0m\n\u001b[1;32m    531\u001b[0m             \u001b[0mmeth\u001b[0m \u001b[0;34m=\u001b[0m \u001b[0mgetattr\u001b[0m\u001b[0;34m(\u001b[0m\u001b[0mprocessor\u001b[0m\u001b[0;34m,\u001b[0m \u001b[0mmeth_name\u001b[0m\u001b[0;34m)\u001b[0m\u001b[0;34m\u001b[0m\u001b[0;34m\u001b[0m\u001b[0m\n\u001b[0;32m--> 532\u001b[0;31m             \u001b[0mresponse\u001b[0m \u001b[0;34m=\u001b[0m \u001b[0mmeth\u001b[0m\u001b[0;34m(\u001b[0m\u001b[0mreq\u001b[0m\u001b[0;34m,\u001b[0m \u001b[0mresponse\u001b[0m\u001b[0;34m)\u001b[0m\u001b[0;34m\u001b[0m\u001b[0;34m\u001b[0m\u001b[0m\n\u001b[0m\u001b[1;32m    533\u001b[0m \u001b[0;34m\u001b[0m\u001b[0m\n",
            "\u001b[0;32m/usr/lib/python3.6/urllib/request.py\u001b[0m in \u001b[0;36mhttp_response\u001b[0;34m(self, request, response)\u001b[0m\n\u001b[1;32m    641\u001b[0m             response = self.parent.error(\n\u001b[0;32m--> 642\u001b[0;31m                 'http', request, response, code, msg, hdrs)\n\u001b[0m\u001b[1;32m    643\u001b[0m \u001b[0;34m\u001b[0m\u001b[0m\n",
            "\u001b[0;32m/usr/lib/python3.6/urllib/request.py\u001b[0m in \u001b[0;36merror\u001b[0;34m(self, proto, *args)\u001b[0m\n\u001b[1;32m    569\u001b[0m             \u001b[0margs\u001b[0m \u001b[0;34m=\u001b[0m \u001b[0;34m(\u001b[0m\u001b[0mdict\u001b[0m\u001b[0;34m,\u001b[0m \u001b[0;34m'default'\u001b[0m\u001b[0;34m,\u001b[0m \u001b[0;34m'http_error_default'\u001b[0m\u001b[0;34m)\u001b[0m \u001b[0;34m+\u001b[0m \u001b[0morig_args\u001b[0m\u001b[0;34m\u001b[0m\u001b[0;34m\u001b[0m\u001b[0m\n\u001b[0;32m--> 570\u001b[0;31m             \u001b[0;32mreturn\u001b[0m \u001b[0mself\u001b[0m\u001b[0;34m.\u001b[0m\u001b[0m_call_chain\u001b[0m\u001b[0;34m(\u001b[0m\u001b[0;34m*\u001b[0m\u001b[0margs\u001b[0m\u001b[0;34m)\u001b[0m\u001b[0;34m\u001b[0m\u001b[0;34m\u001b[0m\u001b[0m\n\u001b[0m\u001b[1;32m    571\u001b[0m \u001b[0;34m\u001b[0m\u001b[0m\n",
            "\u001b[0;32m/usr/lib/python3.6/urllib/request.py\u001b[0m in \u001b[0;36m_call_chain\u001b[0;34m(self, chain, kind, meth_name, *args)\u001b[0m\n\u001b[1;32m    503\u001b[0m             \u001b[0mfunc\u001b[0m \u001b[0;34m=\u001b[0m \u001b[0mgetattr\u001b[0m\u001b[0;34m(\u001b[0m\u001b[0mhandler\u001b[0m\u001b[0;34m,\u001b[0m \u001b[0mmeth_name\u001b[0m\u001b[0;34m)\u001b[0m\u001b[0;34m\u001b[0m\u001b[0;34m\u001b[0m\u001b[0m\n\u001b[0;32m--> 504\u001b[0;31m             \u001b[0mresult\u001b[0m \u001b[0;34m=\u001b[0m \u001b[0mfunc\u001b[0m\u001b[0;34m(\u001b[0m\u001b[0;34m*\u001b[0m\u001b[0margs\u001b[0m\u001b[0;34m)\u001b[0m\u001b[0;34m\u001b[0m\u001b[0;34m\u001b[0m\u001b[0m\n\u001b[0m\u001b[1;32m    505\u001b[0m             \u001b[0;32mif\u001b[0m \u001b[0mresult\u001b[0m \u001b[0;32mis\u001b[0m \u001b[0;32mnot\u001b[0m \u001b[0;32mNone\u001b[0m\u001b[0;34m:\u001b[0m\u001b[0;34m\u001b[0m\u001b[0;34m\u001b[0m\u001b[0m\n",
            "\u001b[0;32m/usr/lib/python3.6/urllib/request.py\u001b[0m in \u001b[0;36mhttp_error_default\u001b[0;34m(self, req, fp, code, msg, hdrs)\u001b[0m\n\u001b[1;32m    649\u001b[0m     \u001b[0;32mdef\u001b[0m \u001b[0mhttp_error_default\u001b[0m\u001b[0;34m(\u001b[0m\u001b[0mself\u001b[0m\u001b[0;34m,\u001b[0m \u001b[0mreq\u001b[0m\u001b[0;34m,\u001b[0m \u001b[0mfp\u001b[0m\u001b[0;34m,\u001b[0m \u001b[0mcode\u001b[0m\u001b[0;34m,\u001b[0m \u001b[0mmsg\u001b[0m\u001b[0;34m,\u001b[0m \u001b[0mhdrs\u001b[0m\u001b[0;34m)\u001b[0m\u001b[0;34m:\u001b[0m\u001b[0;34m\u001b[0m\u001b[0;34m\u001b[0m\u001b[0m\n\u001b[0;32m--> 650\u001b[0;31m         \u001b[0;32mraise\u001b[0m \u001b[0mHTTPError\u001b[0m\u001b[0;34m(\u001b[0m\u001b[0mreq\u001b[0m\u001b[0;34m.\u001b[0m\u001b[0mfull_url\u001b[0m\u001b[0;34m,\u001b[0m \u001b[0mcode\u001b[0m\u001b[0;34m,\u001b[0m \u001b[0mmsg\u001b[0m\u001b[0;34m,\u001b[0m \u001b[0mhdrs\u001b[0m\u001b[0;34m,\u001b[0m \u001b[0mfp\u001b[0m\u001b[0;34m)\u001b[0m\u001b[0;34m\u001b[0m\u001b[0;34m\u001b[0m\u001b[0m\n\u001b[0m\u001b[1;32m    651\u001b[0m \u001b[0;34m\u001b[0m\u001b[0m\n",
            "\u001b[0;31mHTTPError\u001b[0m: HTTP Error 502: Bad Gateway",
            "\nDuring handling of the above exception, another exception occurred:\n",
            "\u001b[0;31mPyngrokNgrokHTTPError\u001b[0m                     Traceback (most recent call last)",
            "\u001b[0;32m<ipython-input-71-c729c498c15c>\u001b[0m in \u001b[0;36m<module>\u001b[0;34m()\u001b[0m\n\u001b[1;32m      1\u001b[0m \u001b[0;31m# Setup a tunnel to the streamlit port 8501\u001b[0m\u001b[0;34m\u001b[0m\u001b[0;34m\u001b[0m\u001b[0;34m\u001b[0m\u001b[0m\n\u001b[0;32m----> 2\u001b[0;31m \u001b[0mpublic_url\u001b[0m \u001b[0;34m=\u001b[0m \u001b[0mngrok\u001b[0m\u001b[0;34m.\u001b[0m\u001b[0mconnect\u001b[0m\u001b[0;34m(\u001b[0m\u001b[0mport\u001b[0m\u001b[0;34m=\u001b[0m\u001b[0;34m'8501'\u001b[0m\u001b[0;34m)\u001b[0m\u001b[0;34m\u001b[0m\u001b[0;34m\u001b[0m\u001b[0m\n\u001b[0m",
            "\u001b[0;32m/usr/local/lib/python3.6/dist-packages/pyngrok/ngrok.py\u001b[0m in \u001b[0;36mconnect\u001b[0;34m(addr, proto, name, pyngrok_config, **options)\u001b[0m\n\u001b[1;32m    248\u001b[0m \u001b[0;34m\u001b[0m\u001b[0m\n\u001b[1;32m    249\u001b[0m     tunnel = NgrokTunnel(api_request(\"{}/api/tunnels\".format(api_url), method=\"POST\", data=options,\n\u001b[0;32m--> 250\u001b[0;31m                                      timeout=pyngrok_config.request_timeout),\n\u001b[0m\u001b[1;32m    251\u001b[0m                          pyngrok_config, api_url)\n\u001b[1;32m    252\u001b[0m \u001b[0;34m\u001b[0m\u001b[0m\n",
            "\u001b[0;32m/usr/local/lib/python3.6/dist-packages/pyngrok/ngrok.py\u001b[0m in \u001b[0;36mapi_request\u001b[0;34m(url, method, data, params, timeout)\u001b[0m\n\u001b[1;32m    455\u001b[0m         raise PyngrokNgrokHTTPError(\"ngrok client exception, API returned {}: {}\".format(status_code, response_data),\n\u001b[1;32m    456\u001b[0m                                     \u001b[0me\u001b[0m\u001b[0;34m.\u001b[0m\u001b[0murl\u001b[0m\u001b[0;34m,\u001b[0m\u001b[0;34m\u001b[0m\u001b[0;34m\u001b[0m\u001b[0m\n\u001b[0;32m--> 457\u001b[0;31m                                     status_code, e.msg, e.hdrs, response_data)\n\u001b[0m\u001b[1;32m    458\u001b[0m     \u001b[0;32mexcept\u001b[0m \u001b[0mURLError\u001b[0m \u001b[0;32mas\u001b[0m \u001b[0me\u001b[0m\u001b[0;34m:\u001b[0m\u001b[0;34m\u001b[0m\u001b[0;34m\u001b[0m\u001b[0m\n\u001b[1;32m    459\u001b[0m         \u001b[0;32mraise\u001b[0m \u001b[0mPyngrokNgrokURLError\u001b[0m\u001b[0;34m(\u001b[0m\u001b[0;34m\"ngrok client exception, URLError: {}\"\u001b[0m\u001b[0;34m.\u001b[0m\u001b[0mformat\u001b[0m\u001b[0;34m(\u001b[0m\u001b[0me\u001b[0m\u001b[0;34m.\u001b[0m\u001b[0mreason\u001b[0m\u001b[0;34m)\u001b[0m\u001b[0;34m,\u001b[0m \u001b[0me\u001b[0m\u001b[0;34m.\u001b[0m\u001b[0mreason\u001b[0m\u001b[0;34m)\u001b[0m\u001b[0;34m\u001b[0m\u001b[0;34m\u001b[0m\u001b[0m\n",
            "\u001b[0;31mPyngrokNgrokHTTPError\u001b[0m: ngrok client exception, API returned 502: {\"error_code\":103,\"status_code\":502,\"msg\":\"failed to start tunnel\",\"details\":{\"err\":\"Your account may not run more than 2 tunnels over a single ngrok client session.\\nThe tunnels already running on this session are:\\n[http://366e6364ef36.ngrok.io https://366e6364ef36.ngrok.io]\\n\\r\\n\\r\\nERR_NGROK_324\\r\\n\"}}\n"
          ]
        }
      ]
    },
    {
      "cell_type": "code",
      "metadata": {
        "id": "CpPL9Tu2r5Ip",
        "outputId": "e4c26ddb-0304-4aeb-d7f8-df699fab45e0",
        "colab": {
          "base_uri": "https://localhost:8080/",
          "height": 35
        }
      },
      "source": [
        "public_url"
      ],
      "execution_count": null,
      "outputs": [
        {
          "output_type": "execute_result",
          "data": {
            "text/plain": [
              "<NgrokTunnel: \"http://366e6364ef36.ngrok.io\" -> \"http://localhost:80\">"
            ]
          },
          "metadata": {
            "tags": []
          },
          "execution_count": 69
        }
      ]
    },
    {
      "cell_type": "code",
      "metadata": {
        "id": "DMkdA1G7kiAN"
      },
      "source": [
        "get_ipython().system_raw('./ngrok http 8501 &')"
      ],
      "execution_count": null,
      "outputs": []
    },
    {
      "cell_type": "code",
      "metadata": {
        "id": "wzsuR8-qQBiJ",
        "outputId": "53e49abe-081b-4b55-e153-b10f3183bd96",
        "colab": {
          "base_uri": "https://localhost:8080/",
          "height": 35
        }
      },
      "source": [
        "!curl -s http://localhost:4040/api/tunnels | python3 -c \\\n",
        "'import sys, json; print(\"Execute the next cell and the go to the following URL: \" +json.load(sys.stdin)[\"tunnels\"][0][\"public_url\"])'"
      ],
      "execution_count": null,
      "outputs": [
        {
          "output_type": "stream",
          "text": [
            "Execute the next cell and the go to the following URL: https://15effef262a5.ngrok.io\n"
          ],
          "name": "stdout"
        }
      ]
    },
    {
      "cell_type": "markdown",
      "metadata": {
        "id": "d_4MefaoPJs0"
      },
      "source": [
        "### Run strealit and send it to backgroubd"
      ]
    },
    {
      "cell_type": "markdown",
      "metadata": {
        "id": "l42xCTHnPVF6"
      },
      "source": [
        ""
      ]
    },
    {
      "cell_type": "code",
      "metadata": {
        "id": "JdACDnhmPHsB"
      },
      "source": [
        "#!nohub streamlit run ConverseQuery.py &"
      ],
      "execution_count": null,
      "outputs": []
    },
    {
      "cell_type": "code",
      "metadata": {
        "id": "7pRu12NsoJK5",
        "outputId": "d10d1382-75af-4c4a-a694-bbcc463ae2c9",
        "colab": {
          "base_uri": "https://localhost:8080/",
          "height": 151
        }
      },
      "source": [
        "!streamlit run ConverseQuery.py"
      ],
      "execution_count": null,
      "outputs": [
        {
          "output_type": "stream",
          "text": [
            "\u001b[0m\n",
            "\u001b[34m\u001b[1m  You can now view your Streamlit app in your browser.\u001b[0m\n",
            "\u001b[0m\n",
            "\u001b[34m  Network URL: \u001b[0m\u001b[1mhttp://172.28.0.2:8501\u001b[0m\n",
            "\u001b[34m  External URL: \u001b[0m\u001b[1mhttp://35.201.230.130:8501\u001b[0m\n",
            "\u001b[0m\n"
          ],
          "name": "stdout"
        }
      ]
    },
    {
      "cell_type": "code",
      "metadata": {
        "id": "HtNb2IiRPb8P"
      },
      "source": [
        "!streamlit run ConverseQuery.py &>/dev/null&"
      ],
      "execution_count": null,
      "outputs": []
    },
    {
      "cell_type": "code",
      "metadata": {
        "id": "e-YG5hWCb3a-",
        "outputId": "f8a6c9f2-1c84-4b65-a29f-d0332f1398f9",
        "colab": {
          "base_uri": "https://localhost:8080/",
          "height": 139
        }
      },
      "source": [
        "!streamlit run ConverseQuery.py"
      ],
      "execution_count": null,
      "outputs": [
        {
          "output_type": "stream",
          "text": [
            "\u001b[0m\n",
            "\u001b[34m\u001b[1m  You can now view your Streamlit app in your browser.\u001b[0m\n",
            "\u001b[0m\n",
            "\u001b[34m  Network URL: \u001b[0m\u001b[1mhttp://172.28.0.2:8502\u001b[0m\n",
            "\u001b[34m  External URL: \u001b[0m\u001b[1mhttp://35.201.230.130:8502\u001b[0m\n",
            "\u001b[0m\n",
            "\u001b[34m  Stopping...\u001b[0m\n"
          ],
          "name": "stdout"
        }
      ]
    },
    {
      "cell_type": "markdown",
      "metadata": {
        "id": "yFVmDmskQ9CC"
      },
      "source": [
        "## Run above URL"
      ]
    },
    {
      "cell_type": "markdown",
      "metadata": {
        "id": "6pcqXfMUQ8Xe"
      },
      "source": [
        ""
      ]
    },
    {
      "cell_type": "code",
      "metadata": {
        "id": "8fe1E0EkcD4s",
        "outputId": "5ffd9a98-9d38-4e99-8325-a1f22f6385e8",
        "colab": {
          "base_uri": "https://localhost:8080/",
          "height": 374
        }
      },
      "source": [
        "from pyngrok import ngrok\n",
        "# Setup a tunnel to the streamlit port 8501\n",
        "\n",
        "public_url = ngrok.connect(port='8501')\n",
        "public_url"
      ],
      "execution_count": null,
      "outputs": [
        {
          "output_type": "error",
          "ename": "ModuleNotFoundError",
          "evalue": "ignored",
          "traceback": [
            "\u001b[0;31m---------------------------------------------------------------------------\u001b[0m",
            "\u001b[0;31mModuleNotFoundError\u001b[0m                       Traceback (most recent call last)",
            "\u001b[0;32m<ipython-input-60-d26e04a13be6>\u001b[0m in \u001b[0;36m<module>\u001b[0;34m()\u001b[0m\n\u001b[0;32m----> 1\u001b[0;31m \u001b[0;32mfrom\u001b[0m \u001b[0mpyngrok\u001b[0m \u001b[0;32mimport\u001b[0m \u001b[0mngrok\u001b[0m\u001b[0;34m\u001b[0m\u001b[0;34m\u001b[0m\u001b[0m\n\u001b[0m\u001b[1;32m      2\u001b[0m \u001b[0;31m# Setup a tunnel to the streamlit port 8501\u001b[0m\u001b[0;34m\u001b[0m\u001b[0;34m\u001b[0m\u001b[0;34m\u001b[0m\u001b[0m\n\u001b[1;32m      3\u001b[0m \u001b[0;34m\u001b[0m\u001b[0m\n\u001b[1;32m      4\u001b[0m \u001b[0mpublic_url\u001b[0m \u001b[0;34m=\u001b[0m \u001b[0mngrok\u001b[0m\u001b[0;34m.\u001b[0m\u001b[0mconnect\u001b[0m\u001b[0;34m(\u001b[0m\u001b[0mport\u001b[0m\u001b[0;34m=\u001b[0m\u001b[0;34m'8501'\u001b[0m\u001b[0;34m)\u001b[0m\u001b[0;34m\u001b[0m\u001b[0;34m\u001b[0m\u001b[0m\n\u001b[1;32m      5\u001b[0m \u001b[0mpublic_url\u001b[0m\u001b[0;34m\u001b[0m\u001b[0;34m\u001b[0m\u001b[0m\n",
            "\u001b[0;31mModuleNotFoundError\u001b[0m: No module named 'pyngrok'",
            "",
            "\u001b[0;31m---------------------------------------------------------------------------\u001b[0;32m\nNOTE: If your import is failing due to a missing package, you can\nmanually install dependencies using either !pip or !apt.\n\nTo view examples of installing some common dependencies, click the\n\"Open Examples\" button below.\n\u001b[0;31m---------------------------------------------------------------------------\u001b[0m\n"
          ]
        }
      ]
    },
    {
      "cell_type": "markdown",
      "metadata": {
        "id": "eiyY74xMV_C_"
      },
      "source": [
        "### Craete App "
      ]
    },
    {
      "cell_type": "code",
      "metadata": {
        "id": "ZXYFznrsfdi_"
      },
      "source": [
        "# list ./content/ConverseQuery.py"
      ],
      "execution_count": null,
      "outputs": []
    },
    {
      "cell_type": "code",
      "metadata": {
        "id": "2n5pzJlzZ1nJ"
      },
      "source": [
        "# ngrok.kill()"
      ],
      "execution_count": null,
      "outputs": []
    },
    {
      "cell_type": "markdown",
      "metadata": {
        "id": "gXF3wB2B6id1"
      },
      "source": [
        "## Run strealit and send it to backgroubd"
      ]
    },
    {
      "cell_type": "markdown",
      "metadata": {
        "id": "oVi-HHUIPDRd"
      },
      "source": [
        ""
      ]
    },
    {
      "cell_type": "code",
      "metadata": {
        "id": "O4iYQNutaRor"
      },
      "source": [
        "!streamlit run ConverseQuery.py &>/dev/null&"
      ],
      "execution_count": null,
      "outputs": []
    },
    {
      "cell_type": "code",
      "metadata": {
        "id": "_-bRAkzpa9es"
      },
      "source": [
        "#!nohub streamlit run ConverseQuery.py &"
      ],
      "execution_count": null,
      "outputs": []
    },
    {
      "cell_type": "markdown",
      "metadata": {
        "id": "jYb5nh9S7H8g"
      },
      "source": [
        "### check if it is running"
      ]
    },
    {
      "cell_type": "code",
      "metadata": {
        "id": "AMn59ZuI63E5"
      },
      "source": [
        "!pgrep streamlit"
      ],
      "execution_count": null,
      "outputs": []
    },
    {
      "cell_type": "code",
      "metadata": {
        "id": "JOMPUxk37gTy"
      },
      "source": [
        "# purl = ngrok.connect(port='8501')"
      ],
      "execution_count": null,
      "outputs": []
    },
    {
      "cell_type": "code",
      "metadata": {
        "id": "TB8wf3EV8LwR"
      },
      "source": [
        "#purl"
      ],
      "execution_count": null,
      "outputs": []
    },
    {
      "cell_type": "markdown",
      "metadata": {
        "id": "kOuQ7TbvblK6"
      },
      "source": [
        "### use secure tunnel\n"
      ]
    },
    {
      "cell_type": "code",
      "metadata": {
        "id": "sO4xw83XbGN5"
      },
      "source": [
        "!ngrok"
      ],
      "execution_count": null,
      "outputs": []
    },
    {
      "cell_type": "code",
      "metadata": {
        "id": "u0c1XdjF4cxD"
      },
      "source": [
        "!pgrep streamlit"
      ],
      "execution_count": null,
      "outputs": []
    }
  ]
}